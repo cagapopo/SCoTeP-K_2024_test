{
  "cells": [
    {
      "cell_type": "markdown",
      "metadata": {
        "id": "view-in-github",
        "colab_type": "text"
      },
      "source": [
        "<a href=\"https://colab.research.google.com/github/cagapopo/SCoTeP-K_2024_test/blob/main/Stat_lectures.ipynb\" target=\"_parent\"><img src=\"https://colab.research.google.com/assets/colab-badge.svg\" alt=\"Open In Colab\"/></a>"
      ]
    },
    {
      "cell_type": "markdown",
      "metadata": {
        "id": "ZHF5x6u_Q_n4"
      },
      "source": [
        "<font color='red'>$\\Huge{\\textbf{School of Computational Techniques}}$\n",
        "$\\Huge{\\textbf{for Physics Students in Kenya}}$\n",
        "\n",
        "$\\Huge{\\text{Introduction to Statistical Data Analysis}}$\n",
        "\n",
        "Christina Agapopoulou,\n",
        "Kiplabat Tarus"
      ]
    },
    {
      "cell_type": "markdown",
      "metadata": {
        "id": "9kYKl5pyUUJW"
      },
      "source": [
        "# **First lecture: Introduction to statistics for data analysis**\n",
        "\n",
        "---\n",
        "\n",
        "\n",
        "On the program today:\n",
        "* How to work with large data-sets\n",
        "* Data exploration\n",
        "* Filtering data\n",
        "* Some basic concepts of statistics\n",
        "\n"
      ]
    },
    {
      "cell_type": "markdown",
      "metadata": {
        "id": "_fO2fxlA3dUQ"
      },
      "source": [
        "# Preparation\n",
        "\n",
        "---\n",
        "\n",
        "Hello! Before we dive into the world of statistics, let's prepare a bit our data-sets. We will be working with a data-set from a real-life physics experiment: this is the LHCb experiment, located at CERN, Geneva which explores the fundamental interactions of sub-atomic particles, and in particular the b-quark. The b-quark can be found in baryons or mesons for very short times after a particle collision, such as those produced at the Large Hadron Collider, at CERN. These mesons or baryons are very unstable and quickly decay, either in one, or more steps, to stable particles: u- , d-quarks and electrons. We measure the decay products of the b-quarks, and by using conservation laws, try to figure out what happened during the collision. Decay products, depending on their nature, as well as our detecting material can leave different signatures in our detectors: we have tracks, energy clusters, Cherenkov rings and more!\n",
        "\n",
        "The aim of this specific data-set is to measure the $C\\!P$ asymmetry in $B^0_{(s)}$ meson decays, i.e. the different decay rates of the charge-conjugated decays $B^0_{(s)} \\to K^+ \\pi^-$ and $\\overline{B^0}_{(s)} \\to K^- \\pi^+$.\n",
        "\n",
        "First we need to mount our google drive to collab."
      ]
    },
    {
      "cell_type": "code",
      "execution_count": null,
      "metadata": {
        "id": "Ur_cr8n_5vCC"
      },
      "outputs": [],
      "source": [
        "# Check if the current environment is Google Colab\n",
        "RunningInCOLAB = 'google.colab' in str(get_ipython()) if hasattr(__builtins__,'__IPYTHON__') else False\n",
        "\n",
        "if RunningInCOLAB:\n",
        "    # Import the Google Drive library\n",
        "    from google.colab import drive\n",
        "    # Mount the Google Drive to the Colab environment\n",
        "    drive.mount('/content/drive')\n",
        "else:\n",
        "    # Print a message if the environment is not Google Colab\n",
        "    print(\"You are not in Google Colab, make sure to have ROOT installed\")"
      ]
    },
    {
      "cell_type": "markdown",
      "metadata": {
        "id": "tWZu-xAP56HN"
      },
      "source": [
        "---\n",
        "You will be prompted to connect to your Googe Drive - you should accept. If the procedure succeeds, you'll get the message `Mounted at /content/drive`.\n",
        "Now your Google Drive is accessible like a normal directory on you PC, and we can use it as a container for our data.\n",
        "\n",
        "We also need to use a dedicated library called `uproot` to extract the data in a readable format for python. The first time we will need to install it, it may take a couple of minutes.\n",
        "\n",
        "---"
      ]
    },
    {
      "cell_type": "code",
      "execution_count": null,
      "metadata": {
        "id": "IX1xGQ5D8jXy"
      },
      "outputs": [],
      "source": [
        "# Install uproot\n",
        "\n",
        "!pip install uproot\n"
      ]
    },
    {
      "cell_type": "markdown",
      "metadata": {
        "id": "bz036O77RqBA"
      },
      "source": [
        "\n",
        "\n",
        "---\n",
        "\n",
        "Now let's load our data and start inspecting them! For this first step, we will use Pandas DataFrames, a python library for data analysis.\n",
        "\n",
        "---\n",
        "\n"
      ]
    },
    {
      "cell_type": "code",
      "execution_count": null,
      "metadata": {
        "id": "jPufM_Oi6Em_"
      },
      "outputs": [],
      "source": [
        "# Define the paths to the data and MC files based on whether the environment is Google Colab\n",
        "path_to_files = \"/content/drive/MyDrive/LHCb/\"\n",
        "\n",
        "data_file = path_to_files + \"data.root\"\n",
        "mc_file = path_to_files + \"mc.root\"\n",
        "\n",
        "# Import the necessary libraries\n",
        "import uproot\n",
        "import pandas as pd\n",
        "import numpy as np\n",
        "\n",
        "# Define the name of the tree\n",
        "tree_name = \"ntp\"\n",
        "\n",
        "# Open the data file and access the tree\n",
        "data_tree = uproot.open(data_file)[tree_name]\n",
        "\n",
        "# Get the names of the branches\n",
        "# the keys of the tree (branches) are the names of the variables that our data-set contains!\n",
        "vars = data_tree.keys()\n",
        "print(vars)\n",
        "\n",
        "# Convert the data tree into a pandas DataFrame\n",
        "df_lhcb_data = data_tree.arrays(data_tree.keys(),library=\"pd\")\n",
        "\n",
        "#let's look at one of them\n",
        "var = ['minPT']\n",
        "print(df_lhcb_data[var])\n",
        "\n",
        "print(\" \")\n",
        "print(\"Number of variables in our data-set: \", len(vars))\n",
        "print(\"Number of values in our variable array: \", len(df_lhcb_data[var]))\n",
        "print(\" \")\n",
        "\n",
        "#let's look at a few others:\n",
        "vars = ['minPT', 'piplusPT', 'minIPCHI2']\n",
        "print(df_lhcb_data[vars])\n",
        "\n",
        "# Open the MC file and access the tree\n",
        "mc_tree = uproot.open(mc_file)[tree_name]\n",
        "# Convert the MC tree into a pandas DataFrame using the same branches as the data tree\n",
        "df_lhcb_mc = mc_tree.arrays(data_tree.keys(),library=\"pd\")\n",
        "\n",
        "print(df_lhcb_mc.keys())\n",
        "print(len(df_lhcb_mc[\"minPT\"]))\n"
      ]
    },
    {
      "cell_type": "markdown",
      "metadata": {
        "id": "uq_ipwgUDRvR"
      },
      "source": [
        "\n",
        "\n",
        "\n",
        "\n",
        "---\n",
        "Let's quickly explaining the meaning of the variables in our data-set\n",
        "\n",
        "*   `P`: the momentum of the particle, $P = \\sqrt{P_x^2 + P_y^2 + P_z^2}$\n",
        "*   `PT`: transverse momentum of the particle, $P_T = \\sqrt{P_x^2+P_y^2}$\n",
        "*   `IP`: Impact Parameter, minimum distance of the track from the vertex where the $pp$ interaction takes place\n",
        "*   `IPCHI2`: the $\\chi^2$ of the impact parameter\n",
        "*   `ETA`: pseudorapidity of the particle, defined as $\\eta = - \\log \\left[ \\tan \\left( \\frac{\\theta}{2} \\right) \\right]$ where $\\theta$ is the angle between the flight direction and the `z` axis (polar angle)\n",
        "*   `PHI`: azimuthal angle of the particle, the angle netween the flight direction of the particle and the `x` axis\n",
        "*   `FD`: Flight Distance, the flight distance of the particle before decaying (in mm)\n",
        "*   `FDCHI2`: $\\chi^2$ of the flight distance\n",
        "*   `DLLKPI`: Delta-Log Likelihood ($K-\\pi$); this variable quantifies the probability for the particle being a $K$ and not a $\\pi$\n",
        "*   `DLLPPI`: Delta-Log Likelihood ($K-\\pi$); this variable quantifies the probability for the particle being a $p$ and not a $\\pi$\n",
        "*   `doca`: Distance Of Closest Approach, the minimum distance between our two tracks\n",
        "*   `vertexCHI2`: $\\chi^2$ of the vertex position\n",
        "*   `min` and `max` refer to the final tracks; for example, `minPT` is the minimum transverse momentum among the $K$ and $\\pi$\n",
        "\n",
        "\n",
        "---\n",
        "\n"
      ]
    },
    {
      "cell_type": "markdown",
      "metadata": {
        "id": "suumooiXfoUk"
      },
      "source": [
        "### **The big data era**\n",
        "\n",
        "We often hear the phrase \"big data\", but what does it mean?\n",
        "\n",
        "When we talk about big data, we usually refer to massive data-sets, that are analyzed to reveal patterns, trends and associations. But why do we need such large data-sets ?  \n",
        "\n",
        "Because of rarity, randomness and uncertainty - all related to statistics! Big-data analysis inevitably means statistical treatment of the data - **you cannot have big-data without statistics!**\n",
        "\n",
        "Computational resources, both hardware but also time, is not for free, so a fast code is a good code. Python contains various libraries to perform efficient data analysis and visualisation, and we will be using a vary popular one, called NumPy.\n",
        "\n",
        "---\n",
        "\n",
        "NumPy, short for Numerical Python, is a powerful library for scientific computing in Python. It provides support for arrays, matrices, and many mathematical functions to operate on these data structures efficiently. We will briefly show some key functionalities of the library, as we will be using it a lot in this course. You can always find more information in the [official documentation website](https://numpy.org/doc/).\n",
        "\n",
        "---"
      ]
    },
    {
      "cell_type": "markdown",
      "metadata": {
        "id": "4uKBfK-KR6_P"
      },
      "source": [
        "#### 1. Importing NumPy\n",
        "First, you need to import the NumPy library. The convention is to import it as `np`:"
      ]
    },
    {
      "cell_type": "code",
      "execution_count": null,
      "metadata": {
        "id": "pB2REEuHRYab"
      },
      "outputs": [],
      "source": [
        "import numpy as np"
      ]
    },
    {
      "cell_type": "markdown",
      "metadata": {
        "id": "D-TJV1rORocA"
      },
      "source": [
        "#### 2. Creating Arrays\n",
        "**From Lists**\n",
        "\n",
        "You can create NumPy arrays from Python lists:"
      ]
    },
    {
      "cell_type": "code",
      "execution_count": null,
      "metadata": {
        "id": "lqidIFnfRoue"
      },
      "outputs": [],
      "source": [
        "# 1D array\n",
        "arr1 = np.array([1, 2, 3, 4, 5])\n",
        "print(arr1)\n",
        "\n",
        "# 2D array\n",
        "arr2 = np.array([[1, 2, 3], [4, 5, 6]])\n",
        "print(arr2)\n"
      ]
    },
    {
      "cell_type": "markdown",
      "metadata": {
        "id": "Bm3qfiD4SGGe"
      },
      "source": [
        "\n",
        "\n",
        "---\n",
        "\n",
        "Or by using **Built-in functions**\n",
        "\n",
        "NumPy provides several functions to create arrays:\n",
        "\n",
        "---\n",
        "\n"
      ]
    },
    {
      "cell_type": "code",
      "execution_count": null,
      "metadata": {
        "id": "CYqTHtbsSGPI"
      },
      "outputs": [],
      "source": [
        "# Array of zeros\n",
        "zeros = np.zeros((2, 3))\n",
        "print(zeros)\n",
        "\n",
        "# Array of ones\n",
        "ones = np.ones((2, 3))\n",
        "print(ones)\n",
        "\n",
        "# Array of random numbers\n",
        "randoms = np.random.random((2, 3))\n",
        "print(randoms)\n",
        "\n",
        "# Array with a range of numbers\n",
        "range_array = np.arange(10)\n",
        "print(range_array)\n",
        "\n",
        "# Array with a range of numbers with a specific step\n",
        "step_array = np.arange(0, 10, 2)\n",
        "print(step_array)\n",
        "\n",
        "# Array with evenly spaced numbers over a specified interval\n",
        "linspace_array = np.linspace(0, 1, 5)\n",
        "print(linspace_array)\n"
      ]
    },
    {
      "cell_type": "markdown",
      "metadata": {
        "id": "clMwXj-7SWi_"
      },
      "source": [
        "#### 3. Array Properties\n",
        "You can get information about the shape, size, and type of the array:\n",
        "\n",
        "\n",
        "---\n",
        "\n"
      ]
    },
    {
      "cell_type": "code",
      "execution_count": null,
      "metadata": {
        "id": "SpLjQuQDSXM4"
      },
      "outputs": [],
      "source": [
        "arr = np.array([[1, 2, 3], [4, 5, 6]])\n",
        "\n",
        "print(\"Shape:\", arr.shape)\n",
        "print(\"Size:\", arr.size)\n",
        "print(\"Data type:\", arr.dtype)\n"
      ]
    },
    {
      "cell_type": "markdown",
      "metadata": {
        "id": "KuFInuL5Sgxs"
      },
      "source": [
        "#### 4. Indexing and Slicing\n",
        "You can access elements, subarrays, and modify parts of arrays using indexing and slicing:\n",
        "\n",
        "\n",
        "---\n",
        "\n"
      ]
    },
    {
      "cell_type": "code",
      "execution_count": null,
      "metadata": {
        "id": "gSRH3wgfSf6i"
      },
      "outputs": [],
      "source": [
        "arr = np.array([1, 2, 3, 4, 5])\n",
        "\n",
        "# Indexing\n",
        "#print(arr[0])\n",
        "#print(arr[4])\n",
        "\n",
        "# Slicing\n",
        "smaller_array = arr[1:3+1]\n",
        "print(smaller_array)\n",
        "#print(arr[:3])\n",
        "#print(arr[::2])\n",
        "\n",
        "# Modifying elements\n",
        "arr[0] = 10\n",
        "#print(arr)\n"
      ]
    },
    {
      "cell_type": "markdown",
      "metadata": {
        "id": "WCetdHyxSnSK"
      },
      "source": [
        "\n",
        "\n",
        "---\n",
        "\n",
        "For 2D arrays:\n",
        "\n",
        "---\n",
        "\n",
        "\n",
        "\n"
      ]
    },
    {
      "cell_type": "code",
      "execution_count": null,
      "metadata": {
        "id": "cxNamCRsSqoE"
      },
      "outputs": [],
      "source": [
        "arr2d = np.array([[1, 2, 3], [4, 5, 6]])\n",
        "\n",
        "# Indexing\n",
        "print(arr2d[0, 0])\n",
        "print(arr2d[1, 2])\n",
        "\n",
        "# Slicing\n",
        "print(arr2d[:, 1])\n",
        "print(arr2d[1, :])"
      ]
    },
    {
      "cell_type": "markdown",
      "metadata": {
        "id": "9mdTiIs3SqQb"
      },
      "source": [
        "#### 4. Aggregate Functions\n",
        "NumPy provides many functions to compute aggregates:"
      ]
    },
    {
      "cell_type": "code",
      "execution_count": null,
      "metadata": {
        "id": "DbKy2qb5S1Og"
      },
      "outputs": [],
      "source": [
        "arr = np.array([1, 2, 3, 4, 5])\n",
        "\n",
        "print(\"Sum:\", np.sum(arr))\n",
        "print(\"Mean:\", np.mean(arr))\n",
        "print(\"Standard Deviation:\", np.std(arr))\n",
        "print(\"Maximum:\", np.max(arr))\n",
        "print(\"Minimum:\", np.min(arr))\n"
      ]
    },
    {
      "cell_type": "markdown",
      "metadata": {
        "id": "vZleOUSIS8ya"
      },
      "source": [
        "\n",
        "\n",
        "---\n",
        "\n",
        "For 2D arrays\n",
        "\n",
        "---\n",
        "\n"
      ]
    },
    {
      "cell_type": "code",
      "execution_count": null,
      "metadata": {
        "id": "PTWEVYBJS6BA"
      },
      "outputs": [],
      "source": [
        "arr2d = np.array([[1, 2, 3], [4, 5, 6]])\n",
        "\n",
        "print(\"Sum (all elements):\", np.sum(arr2d))\n",
        "print(\"Sum (columns):\", np.sum(arr2d, axis=0))\n",
        "print(\"Sum (rows):\", np.sum(arr2d, axis=1))\n"
      ]
    },
    {
      "cell_type": "markdown",
      "metadata": {
        "id": "SRWzT-Z-TDKB"
      },
      "source": [
        "#### 5. Random Numbers\n",
        "NumPy has powerful random number generation capabilities:"
      ]
    },
    {
      "cell_type": "code",
      "execution_count": null,
      "metadata": {
        "id": "_lHXmEZhTCQX"
      },
      "outputs": [],
      "source": [
        "# Random integers\n",
        "rand_ints = np.random.randint(0, 10, size=(3, 3))\n",
        "print(rand_ints)\n",
        "\n",
        "# Random floats\n",
        "rand_floats = np.random.rand(3, 3)\n",
        "print(rand_floats)\n",
        "\n",
        "# Random numbers from a normal distribution\n",
        "rand_norm = np.random.randn(3, 3)\n",
        "print(rand_norm)\n"
      ]
    },
    {
      "cell_type": "markdown",
      "metadata": {
        "id": "2yf2QvzSTH9l"
      },
      "source": [
        "#### 6. Understanding its computing power\n",
        "\n",
        "We could do all these things with usual python functions, why use NumPy? Let's see a simple example on how much difference in CPU time spent we can have even only looking at python:"
      ]
    },
    {
      "cell_type": "code",
      "execution_count": null,
      "metadata": {
        "id": "cjDyO_7zfwYa"
      },
      "outputs": [],
      "source": [
        "import time\n",
        "\n",
        "start = time.perf_counter()\n",
        "list_ = [[num + 1 for num in range(5)] for lst in range(1000000)]\n",
        "elapsed = time.perf_counter() - start\n",
        "print(f\"{elapsed:0.3f}s = native python list initialization\")\n",
        "\n",
        "start = time.perf_counter()\n",
        "array = np.full((1000000,5), range(1,5+1))\n",
        "elapsed = time.perf_counter() - start\n",
        "print(f\"{elapsed:0.3f}s = numpy list initialization for shape {array.shape}\")\n",
        "\n",
        "start = time.perf_counter()\n",
        "count = 0\n",
        "sum   = 0\n",
        "for lst in list_:\n",
        "    for num in lst:\n",
        "        count += 1\n",
        "        sum   += num\n",
        "elapsed = time.perf_counter() - start\n",
        "print(f\"{elapsed:0.3f}s = native python list to sum {count} elements = {sum}\")\n",
        "\n",
        "start = time.perf_counter()\n",
        "count = array.size\n",
        "sum   = np.sum(array)\n",
        "elapsed = time.perf_counter() - start\n",
        "print(f\"{elapsed:0.3f}s = numpy array to sum {count} elements = {sum}\")"
      ]
    },
    {
      "cell_type": "markdown",
      "metadata": {
        "id": "I08FezAWicSA"
      },
      "source": [
        "\n",
        "\n",
        "---\n",
        "\n",
        "\n",
        " As you can see, NumPy is *much faster*  than your usual python List for a number of simple operations. You will see NumPy in various lectures, but always keep in mind the speed of your code, especially when treating large data-sets!\n",
        "\n",
        "\n",
        "---\n",
        "\n"
      ]
    },
    {
      "cell_type": "markdown",
      "metadata": {
        "id": "cqrAmu9RB2cy"
      },
      "source": [
        "### **Visualising data**\n",
        "\n",
        "Throughout this course we will be looking at data in various ways! We can of course, print data, as we have already done in the previous example. But a more intuitive way to look at data is to... well *look* at it. Since we're working with python we will be using *matplotlib*, one of the most used python visualisation libraries.\n",
        "\n",
        "\n",
        "Let's start with a very basic plot, a line plot.\n",
        "\n",
        "---\n",
        "\n"
      ]
    },
    {
      "cell_type": "code",
      "execution_count": null,
      "metadata": {
        "id": "4ljATDY7CgL0"
      },
      "outputs": [],
      "source": [
        "import matplotlib.pyplot as plt\n",
        "\n",
        "# Random sample data\n",
        "x = [1, 2, 3, 4, 5] # add an extra point here, see what happens!\n",
        "y = [1, 4, 9, 16, 25] # add an extra point here, see what happens!\n",
        "\n",
        "# Create a plot\n",
        "plt.plot(x, y)\n",
        "\n",
        "## Add title and labels\n",
        "#plt.title(\"Simple Line Plot\")\n",
        "#plt.xlabel(\"X-axis\")\n",
        "#plt.ylabel(\"Y-axis\")\n",
        "\n",
        "# Show the plot\n",
        "plt.show()"
      ]
    },
    {
      "cell_type": "markdown",
      "metadata": {
        "id": "2AM0kMO5CxcX"
      },
      "source": [
        "\n",
        "\n",
        "---\n",
        "\n",
        "You can customize the plot by changing colors, line styles, and markers.\n",
        "\n",
        "\n",
        "---\n",
        "\n"
      ]
    },
    {
      "cell_type": "code",
      "execution_count": null,
      "metadata": {
        "id": "aVZAT5ZjCwRD"
      },
      "outputs": [],
      "source": [
        "import matplotlib.pyplot as plt\n",
        "\n",
        "# Sample data\n",
        "x = [1, 2, 3, 4, 5]\n",
        "y = [1, 4, 9, 16, 25]\n",
        "\n",
        "# Create a plot with customization\n",
        "plt.plot(x, y, color='green', linestyle='--', marker='o')\n",
        "\n",
        "# Add title and labels\n",
        "plt.title(\"Customized Line Plot\")\n",
        "plt.xlabel(\"X-axis\")\n",
        "plt.ylabel(\"Y-axis\")\n",
        "\n",
        "# Show the plot\n",
        "plt.show()"
      ]
    },
    {
      "cell_type": "markdown",
      "metadata": {
        "id": "cpxtpV1mC3dP"
      },
      "source": [
        "\n",
        "\n",
        "---\n",
        "\n",
        "Try varying some of the plotting options, axis labels and see what happens!\n",
        "\n",
        "---\n",
        "\n"
      ]
    },
    {
      "cell_type": "markdown",
      "metadata": {
        "id": "gDxMg8RODCBl"
      },
      "source": [
        "\n",
        "\n",
        "---\n",
        "\n",
        "We can also superimpose plots. For instance, we can add multiple lines to the same plot by calling `plt.plot` multiple times before `plt.show`.\n",
        "\n",
        "---\n",
        "\n"
      ]
    },
    {
      "cell_type": "code",
      "execution_count": null,
      "metadata": {
        "id": "93iuXQKqDBdT"
      },
      "outputs": [],
      "source": [
        "import matplotlib.pyplot as plt\n",
        "\n",
        "# Sample data\n",
        "x = [1, 2, 3, 4, 5]\n",
        "y1 = [1, 4, 9, 16, 25]\n",
        "y2 = [1, 2, 3, 4, 5]\n",
        "\n",
        "# Create multiple lines\n",
        "plt.plot(x, y1, label='y = x^2')\n",
        "#plt.plot(x, y2, label='y = x')\n",
        "\n",
        "# Add title and labels\n",
        "plt.title(\"Multiple Lines Plot\")\n",
        "plt.xlabel(\"X-axis\")\n",
        "plt.ylabel(\"Y-axis\")\n",
        "\n",
        "# Add a legend\n",
        "#plt.legend()\n",
        "\n",
        "# Show the plot\n",
        "plt.show()\n"
      ]
    },
    {
      "cell_type": "markdown",
      "metadata": {
        "id": "fWS6Y91r3NT2"
      },
      "source": [
        "\n",
        "\n",
        "---\n",
        "\n",
        "Or scatter plots\n",
        "\n",
        "---\n",
        "\n"
      ]
    },
    {
      "cell_type": "code",
      "execution_count": null,
      "metadata": {
        "id": "o2Wbqmr6DSSm"
      },
      "outputs": [],
      "source": [
        "import matplotlib.pyplot as plt\n",
        "\n",
        "# Sample data\n",
        "x = [1, 2, 3, 4, 5]\n",
        "y = [1, 4, 9, 16, 25]\n",
        "\n",
        "# Create a scatter plot\n",
        "plt.scatter(x, y, color='red')\n",
        "\n",
        "# Add title and labels\n",
        "plt.title(\"Simple Scatter Plot\")\n",
        "plt.xlabel(\"X-axis\")\n",
        "plt.ylabel(\"Y-axis\")\n",
        "\n",
        "# Show the plot\n",
        "plt.show()\n"
      ]
    },
    {
      "cell_type": "markdown",
      "metadata": {
        "id": "ad1K0QJXDaXi"
      },
      "source": [
        "\n",
        "\n",
        "---\n",
        "\n",
        "We will explore more features of matplotlib along the course, but if you want to find more information, you can always check the [official documentation webpage](https://matplotlib.org/).\n",
        "\n",
        "---\n",
        "\n"
      ]
    },
    {
      "cell_type": "markdown",
      "metadata": {
        "id": "SEMbP9ozjztv"
      },
      "source": [
        "### **Exploring data**\n"
      ]
    },
    {
      "cell_type": "markdown",
      "metadata": {
        "id": "_UbTXCvd4Zo5"
      },
      "source": [
        "\n",
        "\n",
        "---\n",
        "\n",
        "\n",
        "Let's take the simulated measurements, attempting to recreate the environment of the LHCb experiment at CERN. Here you see the simulated mass of reconstructed B-mesons. Why is the mass not constant, but has a spread? And why does the reconstructed mass look different when we look at data?\n",
        "\n",
        "---\n",
        "\n"
      ]
    },
    {
      "cell_type": "code",
      "execution_count": null,
      "metadata": {
        "id": "Nz6XQmM34beT"
      },
      "outputs": [],
      "source": [
        "\n",
        "import matplotlib.pyplot as plt\n",
        "\n",
        "plt.figure(figsize=(10, 6))\n",
        "\n",
        "# We can create multiple subplots in a single figure.\n",
        "plt.subplot(1, 2, 1) # nrows, ncols, index\n",
        "\n",
        "# We now create a histogram, to check the distribution of the dataset\n",
        "plt.hist(df_lhcb_mc['mass'], bins=50, label='MC')\n",
        "plt.xlabel('Mass (GeV/c^2)')\n",
        "plt.ylabel('Counts')\n",
        "plt.title('Simulated Data')\n",
        "plt.legend()\n",
        "\n",
        "plt.subplot(1, 2, 2)\n",
        "plt.hist(df_lhcb_data['mass'], bins=50, label='Data')\n",
        "plt.xlabel('Mass (GeV/c^2)')\n",
        "plt.ylabel('Counts')\n",
        "plt.title('Real Data')\n",
        "plt.legend()\n",
        "\n",
        "plt.tight_layout()\n",
        "plt.show()\n"
      ]
    },
    {
      "cell_type": "markdown",
      "metadata": {
        "id": "B26lxc-WElfX"
      },
      "source": [
        "\n",
        "\n",
        "---\n",
        "\n",
        "What happens if we change the binning of our histograms? How can we set the x-axis range?\n",
        "\n",
        "---\n",
        "\n"
      ]
    },
    {
      "cell_type": "markdown",
      "metadata": {
        "id": "Px77r-a5fE27"
      },
      "source": [
        "\n",
        "\n",
        "---\n",
        "\n",
        "\n",
        "\n",
        "Let's keep exploring our data-sets.\n",
        "\n",
        "We can look at different variables. For example, let's check out the momentum of the two pions that construct our B-meson candidate\n",
        "\n",
        "---\n",
        "\n"
      ]
    },
    {
      "cell_type": "code",
      "execution_count": null,
      "metadata": {
        "id": "yWYQ0Y_n6OHT"
      },
      "outputs": [],
      "source": [
        "plt.figure(figsize=(10, 6))\n",
        "\n",
        "plt.subplot(1, 2, 1)\n",
        "# Plot a variable 'piminusPT' while at the same time requiring a specific value of a different variable 'tag'\n",
        "plt.hist(df_lhcb_data[df_lhcb_data['tag']==1]['piminusPT'], bins=50, label='piminusPT')\n",
        "plt.xlabel('piminusPT')\n",
        "plt.ylabel('Counts')\n",
        "plt.title('Real Data')\n",
        "plt.legend()\n",
        "\n",
        "plt.subplot(1, 2, 2)\n",
        "# Plot a variable 'piplusPT' while at the same time requiring a specific value of a different variable 'tag'\n",
        "plt.hist(df_lhcb_data[df_lhcb_data['tag']==1]['piplusPT'], bins=50, label='piplusPT')\n",
        "plt.xlabel('piplusPT')\n",
        "plt.ylabel('Counts')\n",
        "plt.title('Real Data')\n",
        "plt.legend()\n",
        "\n",
        "# Give the two subplots some extra space\n",
        "plt.tight_layout()\n",
        "plt.show()\n"
      ]
    },
    {
      "cell_type": "markdown",
      "metadata": {
        "id": "2XBWLK6Z8EKz"
      },
      "source": [
        "\n",
        "---\n",
        "\n",
        "\n",
        "It is often useful to check correlations between different variables. To\n",
        "quickly understand levels of correlation we can plot 2-D histograms of our variables. For example, if we look at the mass of the B-meson and the momentum of one of the pions:\n",
        "\n",
        "\n",
        "---\n",
        "\n"
      ]
    },
    {
      "cell_type": "code",
      "execution_count": null,
      "metadata": {
        "id": "V_ntUNeq8Ai2"
      },
      "outputs": [],
      "source": [
        "plt.figure()\n",
        "plt.scatter(df_lhcb_data.loc[df_lhcb_data['tag']==1]['mass'], df_lhcb_data.loc[df_lhcb_data['tag']==1]['piplusPT'], s=1) #make points with small size\n",
        "plt.xlabel('Mass (GeV/c^2)')\n",
        "plt.ylabel('Momentum (MeV/c)')\n",
        "plt.title('Real Data')\n",
        "plt.show()\n"
      ]
    },
    {
      "cell_type": "markdown",
      "metadata": {
        "id": "YS0PnnXN8dQC"
      },
      "source": [
        "\n",
        "\n",
        "---\n",
        "\n",
        "\n",
        "we can see that they are correlated. The correlation level and distribution\n",
        "becomes clearer when we make a *colorbar* plot, where the color-axis shows the number of entries per bin.\n",
        "\n",
        "---\n",
        "\n"
      ]
    },
    {
      "cell_type": "code",
      "execution_count": null,
      "metadata": {
        "id": "SuAHxq__8Ytm"
      },
      "outputs": [],
      "source": [
        "\n",
        "plt.figure(figsize=(10, 6))\n",
        "plt.hist2d(df_lhcb_data[df_lhcb_data['tag']==1]['mass'], df_lhcb_data[df_lhcb_data['tag']==1]['piplusPT'], bins=50)\n",
        "plt.xlabel('Mass (GeV/c^2)')\n",
        "plt.ylabel('Momentum (MeV/c)')\n",
        "plt.title('Real Data')\n",
        "plt.colorbar()\n",
        "plt.show()"
      ]
    },
    {
      "cell_type": "markdown",
      "metadata": {
        "id": "vyhGEx2k8zNA"
      },
      "source": [
        "\n",
        "\n",
        "---\n",
        "\n",
        "\n",
        "What other data do you feel like looking at? The first step of data analysis is exploration, and you can keep visualising and searching for interesting patterns in these data-sets. Maybe you find something we haven't noticed!\n",
        "\n",
        "\n",
        "---\n",
        "\n"
      ]
    },
    {
      "cell_type": "markdown",
      "metadata": {
        "id": "gZrFUhPP_Noy"
      },
      "source": [
        "### **Filtering data**\n",
        "\n",
        "In reality, real data often contains more than one physical (or even artificial) processes. We may be interested in one or more than one of them. We usually denote the process (or processes) we are interested in as <font color='blue'>*signal(s)*</font>. Other processes, that we are not interested in, but may contaminate our data are usually refered to as <font color='red'>*backgrounds*</font>.\n",
        "\n",
        "Part of our goal in data analysis is to separate <font color='blue'>*signal(s)*</font> from <font color='red'>*backgrounds*</font>, keeping as much of the first as possible while rejecting as much the second as we can. This process is usually called filtering or selection.\n",
        "\n",
        "We apply filters by using variables that have a significantly different behaviour between <font color='blue'>*signal*</font> and <font color='red'>*background*</font>."
      ]
    },
    {
      "cell_type": "code",
      "execution_count": null,
      "metadata": {
        "id": "ZOwrpzyiBnKG"
      },
      "outputs": [],
      "source": [
        "plt.figure(figsize=(10, 6))\n",
        "\n",
        "plt.subplot(1, 2, 1)\n",
        "plt.hist(df_lhcb_data['piplusPT'], bins=50)\n",
        "plt.xlabel('piplusPT')\n",
        "plt.ylabel('Counts')\n",
        "plt.title('Data')\n",
        "plt.axvline(x=5, color='red')\n",
        "\n",
        "\n",
        "plt.subplot(1, 2, 2)\n",
        "plt.hist(df_lhcb_data['mass'], bins=50, label='No cuts')\n",
        "plt.xlabel('Mass (GeV/c^2)')\n",
        "plt.ylabel('Counts')\n",
        "plt.title('Data')\n",
        "plt.legend()\n",
        "\n",
        "##You can change the cut value or variable here, and see what happens!\n",
        "plt.hist(df_lhcb_data[df_lhcb_data['piplusPT']>5]['mass'], bins=50, label='piplusPT>5')\n",
        "plt.legend()\n",
        "\n",
        "plt.tight_layout()\n",
        "plt.show()\n"
      ]
    },
    {
      "cell_type": "markdown",
      "metadata": {
        "id": "sJlnpy74DCSE"
      },
      "source": [
        "\n",
        "\n",
        "---\n",
        "\n",
        "Applying any cuts to our data-set has one inevitable side-effect: it reduces the amount of statistics we have to do our analysis. This is very important, as we will see in the next lessons. Our job is to try and find cuts that reject as much background as possible, without reducing our signal too much. Feel free to change the cut value or variable, and see what happens!\n",
        "\n",
        "---\n",
        "\n"
      ]
    },
    {
      "cell_type": "markdown",
      "metadata": {
        "id": "FRtpCPjHDuSM"
      },
      "source": [
        "### **Cheating to win the game: let's use simulation**\n",
        "\n",
        "If our data-set is made from signal and background, it's hard to tell which cuts to use in order to separate them... A handy way to get around this problem is to use *Simulation* to look at how our signal behaves without that pesky background. In physics we often use a  technique called **Monte Carlo (MC)** method to simulate experimental data, either for generating the physics processes themselves and/or for the interaction with our instruments. The MC method has its origins in statistics, but we need lesson 2 to be able to fully understand it. For now, let's take a look at the sample that we have generated for our signal process using the MC method:\n",
        "\n",
        "\n",
        "---\n",
        "\n"
      ]
    },
    {
      "cell_type": "code",
      "execution_count": null,
      "metadata": {
        "id": "yxEpiq4QHIbP"
      },
      "outputs": [],
      "source": [
        "plt.figure(figsize=(10, 6))\n",
        "\n",
        "plt.subplot(1, 2, 1)\n",
        "\n",
        "# We want to compare the shapes of the two histograms, regardless of number of entries.\n",
        "# To do this, we need to normalize our histograms, using `density=True`\n",
        "plt.hist(df_lhcb_data['bIPCHI2'], bins=50, label='Data', density=True,  histtype='step')\n",
        "plt.hist(df_lhcb_mc['bIPCHI2'], bins=50, label='MC', density=True, histtype='step')\n",
        "plt.xlabel('bIPCHI2')\n",
        "plt.ylabel('Normalized Counts')\n",
        "plt.title('Data and MC')\n",
        "plt.legend()\n",
        "\n",
        "plt.subplot(1, 2, 2)\n",
        "plt.hist(df_lhcb_data['bIPCHI2'], bins=50, label='Data', density=True, histtype='step')\n",
        "plt.hist(df_lhcb_mc['bIPCHI2'], bins=50, label='MC', density=True, histtype='step')\n",
        "plt.xlabel('bIPCHI2')\n",
        "plt.ylabel('Normalized Counts')\n",
        "\n",
        "# To better understand differences in shape in the tails of the distribution, let's plot in log-scale\n",
        "plt.yscale('log')\n",
        "plt.title('Data and MC (Log Scale)')\n",
        "plt.legend()\n",
        "\n",
        "plt.tight_layout()\n",
        "plt.show()\n"
      ]
    },
    {
      "cell_type": "markdown",
      "metadata": {
        "id": "L3kex-yJpy6H"
      },
      "source": [
        "\n",
        "\n",
        "---\n",
        "\n",
        "* Can you think of a cut that makes sense to remove the background?\n",
        "* Can you plot the distribution of the mass before and after the cut?\n",
        "* What other cuts can you think of?\n",
        "\n",
        "---\n",
        "\n"
      ]
    },
    {
      "cell_type": "markdown",
      "metadata": {
        "id": "zf0QLigAuBTV"
      },
      "source": [
        "\n",
        "\n",
        "---\n",
        "\n",
        "What if we have two variables that can help us improve the purity of our signal?\n",
        "\n",
        "---\n",
        "\n"
      ]
    },
    {
      "cell_type": "code",
      "execution_count": null,
      "metadata": {
        "id": "_336Y7FTuSm0"
      },
      "outputs": [],
      "source": [
        "plt.figure()\n",
        "plt.hist2d(df_lhcb_mc['bPT'], df_lhcb_mc['minIPCHI2'], range=[[0,20],[0, 1000]], bins=100)\n",
        "plt.xlabel('bPT')\n",
        "plt.ylabel('minCHI2')\n",
        "plt.title('MC Data')\n",
        "plt.colorbar()\n",
        "plt.show()\n"
      ]
    },
    {
      "cell_type": "markdown",
      "metadata": {
        "id": "tliZOoHavm4y"
      },
      "source": [
        "\n",
        "\n",
        "---\n",
        "\n",
        "What are the cut values that we should apply to the two variables?\n",
        "\n",
        "---\n",
        "\n"
      ]
    },
    {
      "cell_type": "code",
      "execution_count": null,
      "metadata": {
        "id": "VDbtDhQqvtId"
      },
      "outputs": [],
      "source": [
        "\n",
        "plt.figure(figsize=(10, 6))\n",
        "\n",
        "plt.subplot(1, 2, 1)\n",
        "plt.hist(df_lhcb_mc['mass'], bins=50, label='No cuts')\n",
        "plt.xlabel('Mass (GeV/c^2)')\n",
        "plt.ylabel('Counts')\n",
        "plt.title('MC Data')\n",
        "plt.legend()\n",
        "\n",
        "plt.subplot(1, 2, 2)\n",
        "plt.hist(df_lhcb_mc[df_lhcb_mc['bPT']>2.0]['mass'], bins=50, label='bPT>2.0')\n",
        "plt.hist(df_lhcb_mc[df_lhcb_mc['minIPCHI2']>100]['mass'], bins=50, label='minIPCHI2>100')\n",
        "plt.hist(df_lhcb_mc[(df_lhcb_mc['bPT']>2.0) & (df_lhcb_mc['minIPCHI2']>100)]['mass'], bins=50, label='bPT>2.0 & minIPCHI2>100')\n",
        "plt.xlabel('Mass (GeV/c^2)')\n",
        "plt.ylabel('Counts')\n",
        "plt.title('MC Data')\n",
        "plt.legend()\n",
        "\n",
        "plt.tight_layout()\n",
        "plt.show()\n"
      ]
    },
    {
      "cell_type": "markdown",
      "metadata": {
        "id": "wfefijY6wbhy"
      },
      "source": [
        "\n",
        "\n",
        "---\n",
        "\n",
        "Let's now look at the effect on data\n",
        "\n",
        "---\n",
        "\n"
      ]
    },
    {
      "cell_type": "code",
      "execution_count": null,
      "metadata": {
        "id": "eMG1c04fwjMy"
      },
      "outputs": [],
      "source": [
        "plt.figure(figsize=(10, 6))\n",
        "\n",
        "plt.subplot(1, 2, 1)\n",
        "plt.hist(df_lhcb_data['mass'], bins=50, label='No cuts')\n",
        "plt.xlabel('Mass (GeV/c^2)')\n",
        "plt.ylabel('Counts')\n",
        "plt.title('Data')\n",
        "plt.legend()\n",
        "\n",
        "plt.subplot(1, 2, 2)\n",
        "plt.hist(df_lhcb_data[df_lhcb_data['bPT']>2.0]['mass'], bins=50, label='bPT>2.0')\n",
        "plt.hist(df_lhcb_data[df_lhcb_data['minIPCHI2']>100]['mass'], bins=50, label='minIPCHI2>100')\n",
        "plt.hist(df_lhcb_data[(df_lhcb_data['bPT']>2.0) & (df_lhcb_data['minIPCHI2']>100)]['mass'], bins=50, label='bPT>2.0 & minIPCHI2>100')\n",
        "plt.xlabel('Mass (GeV/c^2)')\n",
        "plt.ylabel('Counts')\n",
        "plt.title('Data')\n",
        "plt.legend()\n",
        "\n",
        "plt.tight_layout()\n",
        "plt.show()\n"
      ]
    },
    {
      "cell_type": "markdown",
      "metadata": {
        "id": "b2CeDIgqzUP_"
      },
      "source": [
        "\n",
        "\n",
        "---\n",
        "\n",
        "We see that our background reduces, but our signal as well. You will see on this school how to use Machine Learning to optimise the purity of your data filtering!\n",
        "\n",
        "---\n",
        "\n"
      ]
    },
    {
      "cell_type": "markdown",
      "metadata": {
        "id": "Uvnz2V-267iI"
      },
      "source": [
        "---\n",
        "### Missing Values and Variable Correlations\n",
        "Often, in statistical analysis, we encounter missing data or mistakes.\n",
        "\n",
        "This will often result in wrong analyses and conclusions.\n",
        "\n",
        "We also would like to know whether some variables are correlated.\n",
        "\n",
        "Consider the code below:"
      ]
    },
    {
      "cell_type": "code",
      "execution_count": null,
      "metadata": {
        "id": "R2WWU8MS8fSq"
      },
      "outputs": [],
      "source": [
        "# Missing variables\n",
        "import pandas as pd\n",
        "import numpy as np\n",
        "\n",
        "# Create a DataFrame with some misisng data\n",
        "df = pd.DataFrame({\n",
        "    \"age\": [20, 30, np.nan, 40, 50],\n",
        "    \"gender\": [\"male\", \"female\", \"male\", np.nan, \"female\"],\n",
        "    \"income\": [50000, 60000, np.nan, 80000, 90000]\n",
        "})\n",
        "# help(pd.DataFrame)\n",
        "print(df)\n",
        "\n",
        "# Calculate the missingness for each variable\n",
        "missingness = df.isnull().sum() / len(df)\n",
        "# help(df.isnull)\n",
        "\n",
        "# Print the missingness for each variable\n",
        "print(missingness)"
      ]
    },
    {
      "cell_type": "code",
      "execution_count": null,
      "metadata": {
        "collapsed": true,
        "id": "Lao8Id2k9Uzv"
      },
      "outputs": [],
      "source": [
        "# Create a DataFrame with some misisng data\n",
        "df = pd.DataFrame({\n",
        "    \"age\": [20, 30, np.nan, 40, 50],\n",
        "    \"gender\": [\"male\", \"female\", \"male\", np.nan, \"female\"],\n",
        "    \"income\": [50000, 60000, np.nan, 80000, 90000]\n",
        "})\n",
        "\n",
        "# Uncomment the following lines\n",
        "## Calculate the correlation matrix for the DataFrame\n",
        "#correlation_matrix = df.corr()\n",
        "\n",
        "## Print the correlation matrix\n",
        "#print(correlation_matrix)"
      ]
    },
    {
      "cell_type": "markdown",
      "metadata": {
        "id": "I5vik5oQ-aUz"
      },
      "source": [
        "\n",
        "\n",
        "---\n",
        "\n",
        "\n",
        "Why is there an error?\n",
        "\n",
        "How can you fix it?\n",
        "\n",
        "Did you find a solution?\n",
        "\n",
        "\n",
        "---\n",
        "\n"
      ]
    },
    {
      "cell_type": "markdown",
      "metadata": {
        "id": "lO6UJdGz_y6g"
      },
      "source": [
        "# Second lecture: Basic statistical properties of data"
      ]
    },
    {
      "cell_type": "markdown",
      "metadata": {
        "id": "OvdxZs_3uHIY"
      },
      "source": [
        "\n",
        "### Measures of Central Tendency\n",
        "Lets go to the very basics, the foundations of statistics.\n",
        "\n",
        "\n"
      ]
    },
    {
      "cell_type": "markdown",
      "metadata": {
        "id": "hafDd5OXcgEr"
      },
      "source": [
        "### **Mean, Median & Mode**\n",
        "\n",
        "The *mean* or *expectation value* of *x* can be seen as the average of the possible values *x* can take. The *mean* is often denoted as μ.\n",
        "\n",
        "The *median* is the middle value of our data-set. Meaning that we will have equal number of data before and after the median.\n",
        "\n",
        "The *mode* of a PDF is the value of *x* where the PDF gets its maximum value, i.e. the most probable value of our distribution.\n",
        "\n",
        "\n",
        "\n",
        "---\n",
        "\n"
      ]
    },
    {
      "cell_type": "markdown",
      "metadata": {
        "id": "t0ky81OI9QU3"
      },
      "source": [
        "Let's consider a very simple data-set:"
      ]
    },
    {
      "cell_type": "code",
      "execution_count": null,
      "metadata": {
        "id": "GW1FMj-v9Mz4"
      },
      "outputs": [],
      "source": [
        "data = [0, 1, 2, 3, 4, 5, 6, 0]"
      ]
    },
    {
      "cell_type": "markdown",
      "metadata": {
        "id": "MkYTBo9W9Iu-"
      },
      "source": [
        "\n",
        "\n",
        "---\n",
        "\n",
        "Can you try to implement the mean, median and mode definitions in python?\n",
        "\n",
        "---\n",
        "\n"
      ]
    },
    {
      "cell_type": "code",
      "execution_count": null,
      "metadata": {
        "colab": {
          "base_uri": "https://localhost:8080/"
        },
        "id": "pmfBL0879Yfp",
        "outputId": "a514dd48-473b-4279-c069-01971d6ba4df"
      },
      "outputs": [
        {
          "name": "stdout",
          "output_type": "stream",
          "text": [
            "Help on built-in function sum in module builtins:\n",
            "\n",
            "sum(iterable, /, start=0)\n",
            "    Return the sum of a 'start' value (default: 0) plus an iterable of numbers\n",
            "    \n",
            "    When the iterable is empty, return the start value.\n",
            "    This function is intended specifically for use with numeric values and may\n",
            "    reject non-numeric types.\n",
            "\n",
            "Help on built-in function len in module builtins:\n",
            "\n",
            "len(obj, /)\n",
            "    Return the number of items in a container.\n",
            "\n",
            "Help on built-in function sorted in module builtins:\n",
            "\n",
            "sorted(iterable, /, *, key=None, reverse=False)\n",
            "    Return a new list containing all items from the iterable in ascending order.\n",
            "    \n",
            "    A custom key function can be supplied to customize the sort order, and the\n",
            "    reverse flag can be set to request the result in descending order.\n",
            "\n",
            "Help on built-in function max in module builtins:\n",
            "\n",
            "max(...)\n",
            "    max(iterable, *[, default=obj, key=func]) -> value\n",
            "    max(arg1, arg2, *args, *[, key=func]) -> value\n",
            "    \n",
            "    With a single iterable argument, return its biggest item. The\n",
            "    default keyword-only argument specifies an object to return if\n",
            "    the provided iterable is empty.\n",
            "    With two or more arguments, return the largest argument.\n",
            "\n"
          ]
        }
      ],
      "source": [
        "# Define mean, mode and median using the following functions?\n",
        "help(sum)\n",
        "help(len)\n",
        "help(sorted)\n",
        "help(max)"
      ]
    },
    {
      "cell_type": "code",
      "execution_count": null,
      "metadata": {
        "colab": {
          "base_uri": "https://localhost:8080/"
        },
        "id": "5De5oxnd_jnp",
        "outputId": "f077905e-8727-474e-d2f6-e539b96118cb"
      },
      "outputs": [
        {
          "name": "stdout",
          "output_type": "stream",
          "text": [
            "Mean: 2.625\n",
            "Median: 3\n",
            "Mode: 0\n"
          ]
        }
      ],
      "source": [
        "#mean = sum(data) / len(data)\n",
        "#print(f\"Mean: {mean}\")\n",
        "#median = sorted(data)[len(data) // 2]\n",
        "#print(f\"Median: {median}\")\n",
        "#mode = max(data, key=data.count)\n",
        "#print(f\"Mode: {mode}\")"
      ]
    },
    {
      "cell_type": "markdown",
      "metadata": {
        "id": "YhNRmh4H_YMj"
      },
      "source": [
        "\n",
        "\n",
        "---\n",
        "\n",
        "Our data analysis libraries actually have built-in functions to calculate the mean, mode and median variables!\n",
        "\n",
        "SciPy is a python library that builds on top of NumPy, and provides optimised functions for integration, extrapolation and statistical analysis.\n",
        "\n",
        "---\n",
        "\n"
      ]
    },
    {
      "cell_type": "code",
      "execution_count": null,
      "metadata": {
        "colab": {
          "base_uri": "https://localhost:8080/"
        },
        "id": "2uY2WeFU_FF8",
        "outputId": "85c3f7d1-1c57-4058-f228-86f739ef6977"
      },
      "outputs": [
        {
          "name": "stdout",
          "output_type": "stream",
          "text": [
            "Mean: 2.625\n",
            "Median: 2.5\n",
            "Mode: 0\n"
          ]
        }
      ],
      "source": [
        "# Definition of mean, median and mode using Numpy and Scipy\n",
        "mean = np.mean(data)\n",
        "# help(np.mean)\n",
        "print(f\"Mean: {mean}\")\n",
        "\n",
        "median = np.median(data)\n",
        "# help(np.median)\n",
        "print(f\"Median: {median}\")\n",
        "\n",
        "from scipy import stats\n",
        "\n",
        "mode = stats.mode(data)\n",
        "# help(stats.mode)\n",
        "print(f\"Mode: {mode.mode}\")"
      ]
    },
    {
      "cell_type": "markdown",
      "metadata": {
        "id": "jguwYAfqAWqp"
      },
      "source": [
        "\n",
        "\n",
        "---\n",
        "\n",
        "The mean and mode seem very similar, but that may not always be the case!\n",
        "\n",
        "---\n",
        "\n"
      ]
    },
    {
      "cell_type": "code",
      "execution_count": null,
      "metadata": {
        "colab": {
          "base_uri": "https://localhost:8080/",
          "height": 714
        },
        "id": "Lq39UVr3nQeK",
        "outputId": "75f7b1da-88ba-40e4-a085-7aa8b7aeeccb"
      },
      "outputs": [
        {
          "data": {
            "image/png": "[encoded data removed]",
            "text/plain": [
              "<Figure size 1000x600 with 2 Axes>"
            ]
          },
          "metadata": {},
          "output_type": "display_data"
        },
        {
          "name": "stdout",
          "output_type": "stream",
          "text": [
            "Gaussian PDF:\n",
            "  Mean: 0.000\n",
            "  Mode: -0.010\n",
            "Two-Gaussian PDF:\n",
            "  Mean: 0.000\n",
            "  Mode: -4.995\n"
          ]
        }
      ],
      "source": [
        "import numpy as np\n",
        "import matplotlib.pyplot as plt\n",
        "\n",
        "# Define the PDFs in functions\n",
        "def gaussian_pdf(x, mu, sigma):\n",
        "    return 1/(sigma * np.sqrt(2 * np.pi)) * np.exp(-(x - mu)**2 / (2 * sigma**2))\n",
        "\n",
        "def two_gaussian_pdf(x, mu1, sigma1, mu2, sigma2):\n",
        "    return 1/(sigma1 * np.sqrt(2 * np.pi)) * np.exp(-(x - mu1)**2 / (2 * sigma1**2)) + 1/(sigma2 * np.sqrt(2 * np.pi)) * np.exp(-(x - mu2)**2 / (2 * sigma2**2))\n",
        "\n",
        "# Create the x-axis for the PDF plots\n",
        "x = np.linspace(-10, 10, 1000)\n",
        "\n",
        "# Plot the data and the PDFs\n",
        "plt.figure(figsize=(10, 6))\n",
        "\n",
        "plt.subplot(1, 2, 1)\n",
        "plt.plot(x, gaussian_pdf(x, 0, 1))\n",
        "plt.xlabel('x')\n",
        "plt.ylabel('Probability density')\n",
        "plt.title('Gaussian PDF')\n",
        "\n",
        "plt.subplot(1, 2, 2)\n",
        "plt.plot(x, two_gaussian_pdf(x, -5, 1, 5, 1))\n",
        "plt.xlabel('x')\n",
        "plt.ylabel('Probability density')\n",
        "plt.title('Two-Gaussian PDF')\n",
        "\n",
        "plt.tight_layout()\n",
        "plt.show()\n",
        "\n",
        "# Calculate the mean and mode for each PDF\n",
        "gaussian_mean = np.mean(x)\n",
        "gaussian_mode = x[np.argmax(gaussian_pdf(x, 0, 1))]\n",
        "\n",
        "two_gaussian_mean = np.mean(x)\n",
        "two_gaussian_mode = x[np.argmax(two_gaussian_pdf(x, -5, 1, 5, 1))]\n",
        "\n",
        "print(\"Gaussian PDF:\")\n",
        "print(f\"  Mean: {gaussian_mean:.3f}\")\n",
        "print(f\"  Mode: {gaussian_mode:.3f}\")\n",
        "\n",
        "print(\"Two-Gaussian PDF:\")\n",
        "print(f\"  Mean: {two_gaussian_mean:.3f}\")\n",
        "print(f\"  Mode: {two_gaussian_mode:.3f}\")\n"
      ]
    },
    {
      "cell_type": "markdown",
      "metadata": {
        "id": "QGInhGXXvMny"
      },
      "source": [
        "\n",
        "\n",
        "---\n",
        "\n",
        "\n",
        "We see that the mean doesn't always correspond to the most probable value of our distribution. In general, the more evenly distributed our data is, the closer the mean will correspond to the most probable value, but this assumption breaks down for un-even PDFs.\n",
        "\n",
        "\n",
        "---\n",
        "\n"
      ]
    },
    {
      "cell_type": "markdown",
      "metadata": {
        "id": "t5dnaDGCdBa4"
      },
      "source": [
        "### **Standard deviation, RMS and variance**\n",
        "\n",
        "In statistics, we have various ways of quantifying the spread of a distribution of data. It can often be confusing to distinguish between them, so let's try and clear up things.\n",
        "\n",
        "* **Root Mean Square (RMS)** is the square root of the mean of the squares of the values of our dataset. It can be viewed as a measure of the magnitude of a set of numbers.\n",
        "\n",
        "$$ RMS = \\sqrt{\\frac{1}{N}\\sum_{i=1}^{N} x_i^2 }$$\n",
        "\n",
        "* **Variance** measures the dispersion of a set of data points around their mean value. It is defined as the average of the squared differences from the mean.\n",
        "\n",
        "$$ Variance(\\sigma^2) = \\frac{1}{N}\\sum_{i=1}^{N} (x_i-\\mu)^2 $$\n",
        "\n",
        "* **Standard deviation** is the square root of the variance. It provides a measure of the average distance of each data point from the mean.\n",
        "\n",
        "$$ Standard Deviation(\\sigma) = \\sqrt{\\frac{1}{N}\\sum_{i=1}^{N} (x_i-\\mu)^2} $$\n",
        "\n",
        "Can you try and implement their definitions using python?\n",
        "\n",
        "---\n",
        "\n"
      ]
    },
    {
      "cell_type": "code",
      "execution_count": null,
      "metadata": {
        "colab": {
          "base_uri": "https://localhost:8080/"
        },
        "id": "T_OMUncpL8h3",
        "outputId": "106d3c44-31a2-46d5-9354-8622d65ee491"
      },
      "outputs": [
        {
          "name": "stdout",
          "output_type": "stream",
          "text": [
            "Square root of 4:  2.0\n"
          ]
        }
      ],
      "source": [
        "# Can you try defining and calculating the RMS, variance and standard deviation of the following small data-set?\n",
        "import numpy as np\n",
        "\n",
        "# Sample data\n",
        "data = [0, 1, 2, 3, 4, 5, 6, 0]\n",
        "\n",
        "#Python provides a libary called math, with operations for the square root:\n",
        "import math\n",
        "sqrt_oftwo = math.sqrt(4)\n",
        "print(\"Square root of 4: \", sqrt_oftwo)\n",
        "\n",
        "#Try defining and calculating the RMS, variance and standard deviation of this small data-set"
      ]
    },
    {
      "cell_type": "markdown",
      "metadata": {
        "id": "SCs559EbMGwV"
      },
      "source": [
        "\n",
        "\n",
        "---\n",
        "\n",
        "NumPy already provides built-in functions to calculate these quantities!\n",
        "\n",
        "---\n",
        "\n"
      ]
    },
    {
      "cell_type": "code",
      "execution_count": null,
      "metadata": {
        "colab": {
          "base_uri": "https://localhost:8080/"
        },
        "id": "b78IzYweLpRO",
        "outputId": "b183ffc9-aad0-4dbb-c1ae-3d6c3a9b2dd1"
      },
      "outputs": [
        {
          "name": "stdout",
          "output_type": "stream",
          "text": [
            "Variance: 4.484375\n",
            "Standard Deviation: 2.117634293262177\n",
            "RMS: 3.3726843908080104\n"
          ]
        }
      ],
      "source": [
        "import numpy as np\n",
        "\n",
        "# Sample data\n",
        "data = np.array([0, 1, 2, 3, 4, 5, 6, 0])\n",
        "\n",
        "# Variance\n",
        "variance = np.var(data)\n",
        "print(f\"Variance: {variance}\")\n",
        "\n",
        "# Standard Deviation\n",
        "standard_deviation = np.std(data)\n",
        "print(f\"Standard Deviation: {standard_deviation}\")\n",
        "\n",
        "# Root Mean Square (RMS)\n",
        "rms = np.sqrt(np.mean(data**2))\n",
        "print(f\"RMS: {rms}\")"
      ]
    },
    {
      "cell_type": "markdown",
      "metadata": {
        "id": "onNv1ExeFVBw"
      },
      "source": [
        "\n",
        "\n",
        "\n",
        "---\n",
        "\n",
        "\n",
        "Let's now consider a larger dataset, distributed randomly\n",
        "\n",
        "\n",
        "---\n",
        "\n"
      ]
    },
    {
      "cell_type": "code",
      "execution_count": null,
      "metadata": {
        "id": "3c94h_mH9hq9"
      },
      "outputs": [],
      "source": [
        "# Generate random dataset\n",
        "\n",
        "import numpy as np\n",
        "\n",
        "# Set the size of the dataset\n",
        "data_size = 100000\n",
        "\n",
        "# Generate random data from a normal distribution\n",
        "data = np.random.normal(loc=500, scale=1, size=data_size)\n",
        "# help(np.random.normal)\n",
        "\n",
        "data = np.round(data)\n",
        "# help(np.round)"
      ]
    },
    {
      "cell_type": "code",
      "execution_count": null,
      "metadata": {
        "colab": {
          "base_uri": "https://localhost:8080/"
        },
        "id": "18Dcj9ki9hrE",
        "outputId": "d4ff0d90-01f1-4bde-a1b4-1075a007f726"
      },
      "outputs": [
        {
          "name": "stdout",
          "output_type": "stream",
          "text": [
            "Mean: 500.00542\n",
            "Median: 500.0\n",
            "Mode: 500.0\n",
            "Range: 496.0 - 504.0\n",
            "Variance: 1.0761906236000003\n",
            "Standard deviation: 1.0373960784579823\n",
            "Skewness: 0.0059483764775341876\n",
            "Kurtosis: -0.042784517249432774\n"
          ]
        }
      ],
      "source": [
        "# Calculate and print the mean, median, mode, range, variance, standard deviation, coefficient of variation, skewness, and kurtosis\n",
        "\n",
        "mean = np.mean(data)\n",
        "# help(np.mean)\n",
        "print(f\"Mean: {mean}\")\n",
        "\n",
        "median = np.median(data)\n",
        "# help(np.medina)\n",
        "print(f\"Median: {median}\")\n",
        "\n",
        "from scipy import stats\n",
        "\n",
        "mode = stats.mode(data)\n",
        "# help(stats.mode)\n",
        "print(f\"Mode: {mode.mode}\")\n",
        "\n",
        "range_min = np.min(data)\n",
        "range_max = np.max(data)\n",
        "# help(np.min)\n",
        "# help(np.max)\n",
        "print(f\"Range: {range_min} - {range_max}\")\n",
        "\n",
        "variance = np.var(data)\n",
        "#help(np.var)\n",
        "print(f\"Variance: {variance}\")\n",
        "\n",
        "standard_deviation = np.std(data)\n",
        "# help(np.std)\n",
        "print(f\"Standard deviation: {standard_deviation}\")\n",
        "\n",
        "skewness = stats.skew(data)\n",
        "# help(stats.skew)\n",
        "print(f\"Skewness: {skewness}\")\n",
        "\n",
        "kurtosis = stats.kurtosis(data)\n",
        "# help(stats.kurtosis)\n",
        "print(f\"Kurtosis: {kurtosis}\")"
      ]
    },
    {
      "cell_type": "markdown",
      "metadata": {
        "id": "fiCtq440FxYa"
      },
      "source": [
        "\n",
        "\n",
        "---\n",
        "\n",
        "Skewness is a measure of the asymmetry of a distribution, while kurtosis tells us how heavy are the tails of a distribution comared to its tail.\n",
        "\n",
        "---\n",
        "\n"
      ]
    },
    {
      "cell_type": "markdown",
      "metadata": {
        "id": "LOK1PT_-9hrE"
      },
      "source": [
        "Try:\n",
        "\n",
        "\n",
        "*   Change the data size, the mean, nad standard deviation and observe what happens to the measures of central tendency.\n",
        "*   Change the number of decimal places to round off the array. Use the help functionality.\n"
      ]
    },
    {
      "cell_type": "markdown",
      "metadata": {
        "id": "60FKPRxkcbH2"
      },
      "source": [
        "### **Probability**"
      ]
    },
    {
      "cell_type": "markdown",
      "metadata": {
        "id": "1-9Q5GdF-PnC"
      },
      "source": [
        "When we perform a measurement over and over, in a perfect world, we would expect the exact same result, right?\n",
        "\n",
        "But, in real life, randomness comes into play: our measurement instruments may not perfect, or maybe our system has a fundemantal randomness - for example, quantum mechanics, which governs nuclear and particle physics!\n",
        "\n",
        "In order to quantify randomness, we need to start thinking of in terms of probability. Probability is a tricky concept, but there's typically two ways to look at it:\n",
        "*   Imagine performing an experiment N times. Out of those N times, we have A times an occurence of a specific result. The fraction of times that A occurs if we could perform the measurement up to infinity is our probability. This is called the Frequentist approach.\n",
        "*   We can also think of probability in a subjective way, comparing it to a pre-defined hypothesis, let's call it A. The probability then corresponds to our degree of belief that the hypothesis A is true. This is often referred to as the Bayesian approach.\n",
        "\n",
        "In both cases, we will need to relate our data to the probability concept, and we do this by using **Probability Density Functions (PDFs).**\n",
        "\n",
        "If we imagine our experiment has an outcome that is described by a single variable *x*. The PDF describes the distribution of probabilities for observing the outcome of the experiment in the sample space of *x*. By construction: ∫f(x)dx = 1\n",
        "\n",
        "\n",
        "---\n",
        "\n"
      ]
    },
    {
      "cell_type": "code",
      "execution_count": null,
      "metadata": {
        "colab": {
          "base_uri": "https://localhost:8080/",
          "height": 607
        },
        "id": "xeENr1RjfbjD",
        "outputId": "80e0e779-bbed-483c-836f-5dd5071abcfb"
      },
      "outputs": [
        {
          "data": {
            "image/png": "[encoded data removed]",
            "text/plain": [
              "<Figure size 1000x600 with 4 Axes>"
            ]
          },
          "metadata": {},
          "output_type": "display_data"
        }
      ],
      "source": [
        "import matplotlib.pyplot as plt\n",
        "import numpy as np\n",
        "\n",
        "# Generate random data distributed gaussianly\n",
        "data = np.random.normal(loc=0, scale=1, size=100)\n",
        "\n",
        "# Define the PDF of the gaussian distribution\n",
        "def gaussian_pdf(x, mu, sigma):\n",
        "    return 1/(sigma * np.sqrt(2 * np.pi)) * np.exp(-(x - mu)**2 / (2 * sigma**2))\n",
        "\n",
        "# Create the x-axis for the PDF plot\n",
        "x = np.linspace(-4, 4, 100)\n",
        "\n",
        "# Plot the data and the PDF\n",
        "plt.figure(figsize=(10, 6))\n",
        "\n",
        "plt.subplot(2, 2, 1)\n",
        "plt.hist(data, bins=50, density=False)\n",
        "plt.xlabel('x')\n",
        "plt.ylabel('Entries')\n",
        "plt.title('Data histogram')\n",
        "\n",
        "data = np.random.normal(loc=0, scale=1, size=1000)\n",
        "plt.subplot(2, 2, 2)\n",
        "plt.hist(data, bins=50, density=False)\n",
        "plt.xlabel('x')\n",
        "plt.ylabel('Entries')\n",
        "plt.title('Data histogram')\n",
        "\n",
        "data = np.random.normal(loc=0, scale=1, size=10000)\n",
        "plt.subplot(2, 2, 3)\n",
        "plt.hist(data, bins=50, density=False)\n",
        "plt.xlabel('x')\n",
        "plt.ylabel('Entries')\n",
        "plt.title('Data histogram')\n",
        "\n",
        "plt.subplot(2, 2, 4)\n",
        "plt.plot(x, gaussian_pdf(x, 0, 1))\n",
        "plt.xlabel('x')\n",
        "plt.ylabel('Probability density')\n",
        "plt.title('Probability Density Function')\n",
        "\n",
        "plt.tight_layout()\n",
        "plt.show()\n"
      ]
    },
    {
      "cell_type": "markdown",
      "metadata": {
        "id": "mM57AgJGiPuU"
      },
      "source": [
        "\n",
        "\n",
        "---\n",
        "\n",
        "\n",
        "Often our measurements are characterized not only by one, but many variables, which we want to study together. We can generalize the 1-D definition of PDFs for more than one variable. For instance, for two dimensions, *x* and *y*, we can have the PDF *f(x,y)*.   \n",
        "\n",
        "\n",
        "---\n",
        "\n"
      ]
    },
    {
      "cell_type": "code",
      "execution_count": null,
      "metadata": {
        "id": "yaKZcYoli34P"
      },
      "outputs": [],
      "source": [
        "import numpy as np\n",
        "import matplotlib.pyplot as plt\n",
        "\n",
        "# Generate random data\n",
        "x = np.random.normal(loc=0, scale=1, size=1000)\n",
        "y = np.random.exponential(scale=2, size=1000)\n",
        "\n",
        "# Define the PDFs\n",
        "def gaussian_pdf(x, mu, sigma):\n",
        "    return 1/(sigma * np.sqrt(2 * np.pi)) * np.exp(-(x - mu)**2 / (2 * sigma**2))\n",
        "\n",
        "def exponential_pdf(x, lam):\n",
        "    return lam * np.exp(-lam * x)\n",
        "\n",
        "# Create the x-axis for the PDF plots\n",
        "x_axis = np.linspace(-4, 4, 100)\n",
        "y_axis = np.linspace(0, 5, 100)\n",
        "\n",
        "# Plot the data and the PDFs\n",
        "plt.figure(figsize=(10, 6))\n",
        "\n",
        "plt.subplot(2, 2, 1)\n",
        "plt.scatter(x, y, s=5)\n",
        "plt.xlabel('x')\n",
        "plt.ylabel('y')\n",
        "plt.title('Data scatter plot')\n",
        "\n",
        "plt.subplot(2, 2, 2)\n",
        "plt.plot(x_axis, gaussian_pdf(x_axis, 0, 1))\n",
        "plt.xlabel('x')\n",
        "plt.ylabel('Probability density')\n",
        "plt.title('PDF of x')\n",
        "\n",
        "plt.subplot(2, 2, 3)\n",
        "plt.plot(y_axis, exponential_pdf(y_axis, 1))\n",
        "plt.xlabel('y')\n",
        "plt.ylabel('Probability density')\n",
        "plt.title('PDF of y')\n",
        "\n",
        "plt.tight_layout()\n",
        "plt.show()\n"
      ]
    },
    {
      "cell_type": "markdown",
      "metadata": {
        "id": "9osQTE4tanuk"
      },
      "source": [
        "## Examples of Probability Density Functions\n",
        "\n",
        "In the following, we will explore some of the most common PDFs used in physics, and give a few examples from real data!\n",
        "\n",
        "\n",
        "---\n",
        "\n",
        "\n"
      ]
    },
    {
      "cell_type": "markdown",
      "metadata": {
        "id": "GvaJpFqIajy1"
      },
      "source": [
        "### Binomial and multinomial distributions"
      ]
    },
    {
      "cell_type": "markdown",
      "metadata": {
        "id": "Nm2IkvNU4rXx"
      },
      "source": [
        " When there are only two potential outcomes from our measurement, the probabilities of each are described by the *binomial* PDF. This is the \"yes\" or \"no\" , \"0\" or \"1\", \"success\" or \"failure\" distribution.\n",
        "\n",
        " The multinomial distribution is a generalization of the binomial,  where there are not only two outcomes but rather a discrete number of m outcomes.\n",
        "\n",
        "\n",
        "---\n",
        "\n"
      ]
    },
    {
      "cell_type": "code",
      "execution_count": null,
      "metadata": {
        "colab": {
          "background_save": true
        },
        "id": "slE8VzLo5Db2",
        "outputId": "198d1a3d-a154-40ea-f054-b6b74e156698"
      },
      "outputs": [
        {
          "data": {
            "image/png": "[encoded data removed]",
            "text/plain": [
              "<Figure size 1000x600 with 2 Axes>"
            ]
          },
          "metadata": {},
          "output_type": "display_data"
        }
      ],
      "source": [
        "# Define the parameters for the binomial and multinomial distributions\n",
        "n_trials = 10\n",
        "p = 0.6\n",
        "n_categories = 3\n",
        "\n",
        "# Generate the datasets\n",
        "binomial_data = np.random.binomial(n_trials, p, size=1000)\n",
        "multinomial_data = np.random.multinomial(n_trials, [p, 1-p, 1-p], size=1000)\n",
        "\n",
        "# Plot the histograms\n",
        "plt.figure(figsize=(10, 6))\n",
        "\n",
        "plt.subplot(1, 2, 1)\n",
        "plt.hist(binomial_data, bins=np.arange(n_trials + 2) - 0.5, edgecolor='black')\n",
        "plt.xlabel('Number of successes')\n",
        "plt.ylabel('Frequency')\n",
        "plt.title('Binomial Distribution')\n",
        "\n",
        "plt.subplot(1, 2, 2)\n",
        "plt.hist(multinomial_data, bins=np.arange(n_trials + 2) - 0.5, edgecolor='black')\n",
        "plt.xlabel('Number of successes in each category')\n",
        "plt.ylabel('Frequency')\n",
        "plt.title('Multinomial Distribution')\n",
        "\n",
        "plt.tight_layout()\n",
        "plt.show()\n"
      ]
    },
    {
      "cell_type": "markdown",
      "metadata": {
        "id": "Ls9d0657as7W"
      },
      "source": [
        "### Poisson distributions\n",
        "\n",
        "In the limit where the number of events becomes very large, the probability of success becomes very small but hte expectation value of number of successes (i.e. N*p) stays the same, the binomial distribution transforms to the Poisson distribution.\n",
        "\n",
        "\n",
        "---\n",
        "\n"
      ]
    },
    {
      "cell_type": "code",
      "execution_count": null,
      "metadata": {
        "id": "KL6K5PSG6wGA"
      },
      "outputs": [],
      "source": [
        "# Define the parameters for the Poisson distributions\n",
        "lambdas = [2, 5, 10]\n",
        "\n",
        "# Generate the datasets\n",
        "data = []\n",
        "for lambda_value in lambdas:\n",
        "    data.append(np.random.poisson(lambda_value, size=1000))\n",
        "\n",
        "# Plot the histograms\n",
        "plt.figure(figsize=(10, 6))\n",
        "\n",
        "for i, lambda_value in enumerate(lambdas):\n",
        "    plt.subplot(1, len(lambdas), i + 1)\n",
        "    plt.hist(data[i], edgecolor='black')\n",
        "    plt.xlim(0,20)\n",
        "    plt.xlabel('Number of events')\n",
        "    plt.ylabel('Frequency')\n",
        "    plt.title('Poisson Distribution (λ={})'.format(lambda_value))\n",
        "\n",
        "plt.tight_layout()\n",
        "plt.show()\n"
      ]
    },
    {
      "cell_type": "markdown",
      "metadata": {
        "id": "GLI-eOC7aGjG"
      },
      "source": [
        "### Gaussian (or normal) distributions"
      ]
    },
    {
      "cell_type": "markdown",
      "metadata": {
        "id": "RMCy9liHaze8"
      },
      "source": [
        "The Gaussian (also called normal) distribution is a special one! We will see in the next lesson why. For now, let's check how it looks like:"
      ]
    },
    {
      "cell_type": "markdown",
      "metadata": {
        "id": "axHuZ05PWnXl"
      },
      "source": [
        "$f(x)=\\frac{1}{\\sigma\\sqrt{2\\pi}}e^{-\\frac{(x-\\mu)^2}{2\\sigma^2}}$"
      ]
    },
    {
      "cell_type": "markdown",
      "metadata": {
        "id": "Wo97VAZqW-J0"
      },
      "source": [
        "The parameters $\\mu$ and $\\sigma^2$ are also called mean and variance - the mean and variance of a Gaussian distribution give its parameters!  \n",
        "\n",
        "\n",
        "---\n",
        "\n"
      ]
    },
    {
      "cell_type": "code",
      "execution_count": null,
      "metadata": {
        "id": "Zh1tqGn6S3Q6"
      },
      "outputs": [],
      "source": [
        "# Define the parameters for the gaussian distributions\n",
        "means = [0, 5, ] # add an extra parameter here, and see what happens\n",
        "sigmas = [1, 2, ] # add an extra parameter here and see what happens\n",
        "\n",
        "# Generate the datasets\n",
        "data = []\n",
        "for mean, sigma in zip(means, sigmas):\n",
        "    data.append(np.random.normal(loc=mean, scale=sigma, size=1000))\n",
        "\n",
        "# Plot the histograms\n",
        "plt.figure(figsize=(10, 6))\n",
        "\n",
        "for i, (mean, sigma) in enumerate(zip(means, sigmas)):\n",
        "    plt.subplot(1, len(means), i + 1)\n",
        "    plt.hist(data[i], edgecolor='black')\n",
        "    plt.xlabel('Value')\n",
        "    plt.ylabel('Frequency')\n",
        "    plt.title('Gaussian Distribution (μ={}, σ={})'.format(mean, sigma))\n",
        "\n",
        "plt.tight_layout()\n",
        "plt.show()\n"
      ]
    },
    {
      "cell_type": "markdown",
      "metadata": {
        "id": "I5R7wmZnXXgz"
      },
      "source": [
        "What are trends and observations you have on the Gaussian PDF? How does it change when we vary its parameter?\n",
        "\n",
        "---\n",
        "\n"
      ]
    },
    {
      "cell_type": "markdown",
      "metadata": {
        "id": "Nw-o0smheZJz"
      },
      "source": [
        "\n",
        "\n",
        "---\n",
        "\n",
        "The distribution of events in Gaussian is also important to know, as it will serve us later on. How many events are contained within 1, 2 or 3 standard deviations?\n",
        "\n",
        "---\n",
        "\n"
      ]
    },
    {
      "cell_type": "code",
      "execution_count": null,
      "metadata": {
        "id": "fQW6orvecRrw"
      },
      "outputs": [],
      "source": [
        "# Define the parameters for the gaussian distribution\n",
        "mean = 20\n",
        "sigma = 5\n",
        "\n",
        "# Generate the data\n",
        "data = np.random.normal(loc=mean, scale=sigma, size=10000)\n",
        "\n",
        "# Calculate the 1 and 2 sigma limits\n",
        "sigma_1p = mean + sigma\n",
        "sigma_1m = mean - sigma\n",
        "sigma_2p = mean + 2 * sigma\n",
        "sigma_2m = mean - 2 * sigma\n",
        "sigma_3p = mean + 3 * sigma\n",
        "sigma_3m = mean - 3 * sigma\n",
        "\n",
        "# Plot the histogram\n",
        "plt.figure(figsize=(10, 6))\n",
        "plt.hist(data, edgecolor='black', bins=50)\n",
        "plt.xlim(mean-10*sigma, mean+10*sigma)\n",
        "plt.xlabel('Value')\n",
        "plt.ylabel('Frequency')\n",
        "plt.title('Gaussian Distribution (μ={}, σ={})'.format(mean, sigma))\n",
        "\n",
        "# Add vertical lines for the 1, 2 and 3 sigma limits\n",
        "plt.axvline(x=sigma_1p, color='orange', linestyle='--')\n",
        "plt.axvline(x=sigma_2p, color='red', linestyle='--')\n",
        "plt.axvline(x=sigma_3p, color='green', linestyle='--')\n",
        "# Add vertical lines for the 1 and 2 sigma limits\n",
        "plt.axvline(x=sigma_1m, color='orange', linestyle='--')\n",
        "plt.axvline(x=sigma_2m, color='red', linestyle='--')\n",
        "plt.axvline(x=sigma_3m, color='green', linestyle='--')\n",
        "\n",
        "plt.tight_layout()\n",
        "plt.show()\n"
      ]
    },
    {
      "cell_type": "code",
      "execution_count": null,
      "metadata": {
        "id": "eLpbUerse7Bx"
      },
      "outputs": [],
      "source": [
        "# Set the limit\n",
        "limit = 1 * sigma\n",
        "\n",
        "# Calculate the percentage of items within the limit\n",
        "percentage = (np.abs(data - mean) < limit).mean() * 100\n",
        "\n",
        "# Print the result\n",
        "print(f\"Percentage of items within {limit}: {percentage:.2f}%\")\n"
      ]
    },
    {
      "cell_type": "markdown",
      "metadata": {
        "id": "EFbp1g57frzE"
      },
      "source": [
        "\n",
        "\n",
        "---\n",
        "\n",
        "Can you check for the 2 and 3 sigma percentages?\n",
        "\n",
        "---\n",
        "\n"
      ]
    },
    {
      "cell_type": "markdown",
      "metadata": {
        "id": "pVY_LUvAqI23"
      },
      "source": [
        "\n",
        "\n",
        "---\n",
        "\n",
        "### Extra exercise\n",
        "\n",
        "Can you think of any more PDFs?  How would you go about generating data distributed according to them?\n",
        "\n",
        "\n",
        "---\n",
        "\n"
      ]
    },
    {
      "cell_type": "markdown",
      "metadata": {
        "id": "LpoFOa72YH4L"
      },
      "source": [
        "### The Central Limit Theorem\n",
        "\n",
        "\n",
        "---\n",
        "\n",
        "\n",
        "\n",
        "The central limit theorem states that, in the limit of large sampling, no matter what the distribution of the samples, their means are distributed by a Gaussian whose mean is the mean of the distribution and whose standard deviation decreases as $1/sqrt{n}.\n",
        "\n",
        "What does this tell us in practice? It tells us that if we measure a quantity over and over many times, its mean will be a Gaussian distributed variable centered around the true value - even if the quantity is not distributed gaussianly! And the more measurements we take, the less fluctuations we will get  when averaging.\n",
        "\n",
        "Let's see how this works in practice.\n",
        "\n",
        "\n",
        "---\n",
        "\n"
      ]
    },
    {
      "cell_type": "code",
      "execution_count": null,
      "metadata": {
        "colab": {
          "base_uri": "https://localhost:8080/",
          "height": 466
        },
        "id": "P40AzUvHXSWj",
        "outputId": "90410e6e-26bf-4c91-d7b6-f3b8be22410f"
      },
      "outputs": [
        {
          "name": "stdout",
          "output_type": "stream",
          "text": [
            "Mean of 1st sample: -0.001\n",
            "Standard deviation of 1st sample: 0.998\n"
          ]
        },
        {
          "data": {
            "image/png": "[encoded data removed]",
            "text/plain": [
              "<Figure size 640x480 with 1 Axes>"
            ]
          },
          "metadata": {},
          "output_type": "display_data"
        }
      ],
      "source": [
        "# Import necessary libraries\n",
        "import numpy as np\n",
        "import matplotlib.pyplot as plt\n",
        "\n",
        "# Define how many samples we're going to generate\n",
        "n = 1000\n",
        "\n",
        "# Generate random samples from a normal distribution, each sample has 10000 events\n",
        "samples = np.random.normal(loc=0, scale=1, size=(n, 10000))\n",
        "# Calculate the mean and standard deviation for the array of sample means\n",
        "sample_mean = np.mean(samples[0])\n",
        "sample_std = np.std(samples[0])\n",
        "\n",
        "print(\"Mean of 1st sample: %.3f\" % samples_mean)\n",
        "print(\"Standard deviation of 1st sample: %.3f\"% sample_std)\n",
        "\n",
        "\n",
        "plt.hist(samples[0], bins=50, edgecolor='black')\n",
        "plt.show()"
      ]
    },
    {
      "cell_type": "markdown",
      "metadata": {
        "id": "Vx7-18RVYp6s"
      },
      "source": [
        "\n",
        "\n",
        "---\n",
        "\n",
        "\n",
        "We have generated a random sample, of 10000 events, distributed gaussianly. How would we go about checking that the CLT is valid?\n",
        "\n",
        "\n",
        "---\n",
        "\n"
      ]
    },
    {
      "cell_type": "code",
      "execution_count": null,
      "metadata": {
        "colab": {
          "base_uri": "https://localhost:8080/",
          "height": 558
        },
        "id": "iU1i9NvyYLma",
        "outputId": "5e8aba24-0111-445a-b88a-022ce7285058"
      },
      "outputs": [
        {
          "name": "stdout",
          "output_type": "stream",
          "text": [
            "Mean of sample means: 0.000\n",
            "Standard deviation of sample means 0.010\n"
          ]
        },
        {
          "data": {
            "image/png": "[encoded data removed]",
            "text/plain": [
              "<Figure size 1000x600 with 1 Axes>"
            ]
          },
          "metadata": {},
          "output_type": "display_data"
        }
      ],
      "source": [
        "# This is the array of the means of each sample\n",
        "sample_means = np.mean(samples, axis=1)\n",
        "\n",
        "# Calculate the mean and standard deviation for the array of sample means\n",
        "samples_mean = np.mean(sample_means)\n",
        "samples_std = np.std(sample_means)\n",
        "print(\"Mean of sample means: %.3f\" % samples_mean)\n",
        "print(\"Standard deviation of sample means %.3f\"% samples_std)\n",
        "\n",
        "# Plot the histogram of sample means\n",
        "plt.figure(figsize=(10, 6))\n",
        "plt.hist(sample_means, bins=20, edgecolor='black', density=True)\n",
        "plt.show()"
      ]
    },
    {
      "cell_type": "markdown",
      "metadata": {
        "id": "IOJ-kSEFknJo"
      },
      "source": [
        "\n",
        "\n",
        "---\n",
        "\n",
        "It feels natural that the CLT holds for Gaussian distributions. But let's check that it really works for other types of distributions as well!\n",
        "\n",
        "---\n",
        "\n"
      ]
    },
    {
      "cell_type": "code",
      "execution_count": null,
      "metadata": {
        "colab": {
          "base_uri": "https://localhost:8080/",
          "height": 1000
        },
        "id": "1vVJQ4agi07f",
        "outputId": "612892ee-ca01-4301-d080-739ff82242e0"
      },
      "outputs": [
        {
          "data": {
            "image/png": "[encoded data removed]",
            "text/plain": [
              "<Figure size 640x480 with 1 Axes>"
            ]
          },
          "metadata": {},
          "output_type": "display_data"
        },
        {
          "name": "stderr",
          "output_type": "stream",
          "text": [
            "WARNING:matplotlib.legend:No artists with labels found to put in legend.  Note that artists whose label start with an underscore are ignored when legend() is called with no argument.\n"
          ]
        },
        {
          "name": "stdout",
          "output_type": "stream",
          "text": [
            "Mean of sample means: 0.500\n",
            "Standard deviation of sample means 0.003\n"
          ]
        },
        {
          "data": {
            "image/png": "[encoded data removed]",
            "text/plain": [
              "<Figure size 1000x600 with 1 Axes>"
            ]
          },
          "metadata": {},
          "output_type": "display_data"
        }
      ],
      "source": [
        "# Import necessary libraries\n",
        "import numpy as np\n",
        "import matplotlib.pyplot as plt\n",
        "\n",
        "# Define how many samples we're going to generate\n",
        "n = 1000\n",
        "\n",
        "# Generate random samples from a normal distribution, each sample has 10000 events\n",
        "\n",
        "samples = np.random.uniform(low=0, high=1, size=(n, 10000))\n",
        "\n",
        "plt.hist(samples[0], bins=50, edgecolor='black', density=True)\n",
        "\n",
        "plt.title('Example of the uniform distribution')\n",
        "plt.show()\n",
        "\n",
        "# This is the array of the means of each sample\n",
        "sample_means = np.mean(samples, axis=1)\n",
        "\n",
        "# Calculate the mean and standard deviation for the array of sample means\n",
        "samples_mean = np.mean(sample_means)\n",
        "samples_std = np.std(sample_means)\n",
        "print(\"Mean of sample means: %.3f\" % samples_mean)\n",
        "print(\"Standard deviation of sample means %.3f\"% samples_std)\n",
        "\n",
        "# Plot the histogram of sample means\n",
        "plt.figure(figsize=(10, 6))\n",
        "plt.hist(sample_means, bins=20, edgecolor='black', density=True)\n",
        "# Add labels and legend\n",
        "plt.title('Histogram of Sample Means of a Uniform Distribution')\n",
        "plt.xlabel('Sample Mean')\n",
        "plt.ylabel('Frequency')\n",
        "plt.legend()\n",
        "plt.show()\n"
      ]
    },
    {
      "cell_type": "markdown",
      "metadata": {
        "id": "1EDxqCdBz1XK"
      },
      "source": [
        "\n",
        "\n",
        "---\n",
        "\n",
        "\n",
        "There are situations where the CLT does not work well, typically when the sample size is too small or the underlying distribution has infinite variance (such as Cauchy distribution).\n",
        "\n",
        "\n",
        "---\n",
        "\n"
      ]
    },
    {
      "cell_type": "code",
      "execution_count": null,
      "metadata": {
        "colab": {
          "base_uri": "https://localhost:8080/",
          "height": 945
        },
        "id": "pM731FF_xQos",
        "outputId": "5233b3b2-684d-44b7-d907-81a69e710c1a"
      },
      "outputs": [
        {
          "data": {
            "image/png": "[encoded data removed]",
            "text/plain": [
              "<Figure size 640x480 with 1 Axes>"
            ]
          },
          "metadata": {},
          "output_type": "display_data"
        },
        {
          "name": "stderr",
          "output_type": "stream",
          "text": [
            "WARNING:matplotlib.legend:No artists with labels found to put in legend.  Note that artists whose label start with an underscore are ignored when legend() is called with no argument.\n"
          ]
        },
        {
          "data": {
            "image/png": "[encoded data removed]",
            "text/plain": [
              "<Figure size 640x480 with 1 Axes>"
            ]
          },
          "metadata": {},
          "output_type": "display_data"
        }
      ],
      "source": [
        "# prompt: Show me an example of the Central Limit Theorem not working\n",
        "\n",
        "import numpy as np\n",
        "import matplotlib.pyplot as plt\n",
        "\n",
        "# Number of samples to draw from the Cauchy distribution\n",
        "sample_size = 1000\n",
        "\n",
        "# Number of experiments to perform\n",
        "num_experiments = 1000\n",
        "\n",
        "# Draw samples from a Cauchy distribution\n",
        "data = np.random.standard_cauchy((num_experiments, sample_size))\n",
        "\n",
        "plt.hist(samples[0], bins=50, edgecolor='black')\n",
        "plt.title('Example of the Cauchy distribution')\n",
        "plt.show()\n",
        "\n",
        "# Compute the means of these samples\n",
        "sample_means = np.mean(data, axis=1)\n",
        "\n",
        "\n",
        "# Plot the histogram of the sample means\n",
        "plt.hist(sample_means, bins=100, range=[-10, 10], density=True, alpha=0.75, color='b', edgecolor='black')\n",
        "\n",
        "\n",
        "# Add labels and legend\n",
        "plt.title('Histogram of Sample Means of Cauchy Distribution')\n",
        "plt.xlabel('Sample Mean')\n",
        "plt.ylabel('Frequency')\n",
        "plt.legend()\n",
        "plt.show()"
      ]
    },
    {
      "cell_type": "markdown",
      "metadata": {
        "id": "F4OgNVMiz-AM"
      },
      "source": [
        "\n",
        "\n",
        "---\n",
        "\n",
        "\n",
        "We see that the Gaussian fit doesn't manage to describe well or distribution of sample means.\n",
        "\n",
        "**Explanation**: The Cauchy distribution is known for its heavy tails and undefined variance and mean.\n",
        "In the example, we draw sample_size samples from a standard Cauchy distribution for num_experiments times.\n",
        "We then compute the mean of each set of samples.\n",
        "Finally, we plot the histogram of these sample means and overlay the theoretical Cauchy distribution for comparison.\n",
        "What happens:\n",
        "Unlike distributions with finite variance, the sample means from a Cauchy distribution do not converge to a normal distribution as the sample size increases.\n",
        "Instead, they remain heavy-tailed and do not exhibit the normal distribution behavior predicted by the CLT. The CLT has its limitations.\n",
        "\n",
        "\n",
        "---\n",
        "\n"
      ]
    },
    {
      "cell_type": "code",
      "execution_count": null,
      "metadata": {
        "id": "WZuc48yY2JqS"
      },
      "outputs": [],
      "source": [
        "import numpy as np\n",
        "import matplotlib.pyplot as plt\n",
        "\n",
        "# Parameters for the Gaussian distributions\n",
        "means = [5, 5.5, 10]  # Measured means\n",
        "std = 1  # Standard deviation\n",
        "\n",
        "# We make a hypothesis, that the true mean of our variable is 5\n",
        "hypothesis_mean = 5\n",
        "\n",
        "sample_size = 1000\n",
        "\n",
        "# Generate random data from Gaussian distributions\n",
        "data1 = np.random.normal(means[0], std, sample_size)\n",
        "data2 = np.random.normal(means[1], std, sample_size)\n",
        "data3 = np.random.normal(means[2], std, sample_size)\n",
        "\n",
        "# Measured means (for demonstration, we'll use the sample means)\n",
        "measured_means = [np.mean(data1), np.mean(data2), np.mean(data3)]\n",
        "\n",
        "# Plot the histograms and vertical lines\n",
        "fig, axs = plt.subplots(1, 3, figsize=(18, 6), sharey=True)\n",
        "\n",
        "for i, ax in enumerate(axs):\n",
        "    data = [data1, data2, data3][i]\n",
        "    measured_mean = measured_means[i]\n",
        "\n",
        "    # Plot the histogram\n",
        "    ax.hist(data, bins=30, density=True, alpha=0.6, color='gray', edgecolor='black')\n",
        "\n",
        "    # Plot the vertical lines\n",
        "    ax.axvline(hypothesis_mean, color='g', linestyle='-', linewidth=2, label=f'Hypothesis Mean: {hypothesis_mean}')\n",
        "    ax.axvline(measured_mean, color='r', linestyle='--', linewidth=2, label=f'Measured Mean: {measured_mean:.2f}')\n",
        "\n",
        "    # Titles and labels\n",
        "    ax.set_title(f'Gaussian Distribution with Mean {measured_mean}')\n",
        "    ax.set_xlabel('Value')\n",
        "    ax.set_ylabel('Density')\n",
        "    ax.legend()\n",
        "\n",
        "plt.tight_layout()\n",
        "plt.show()\n",
        "\n",
        "\n"
      ]
    },
    {
      "cell_type": "markdown",
      "metadata": {
        "id": "Xqtpc78C4ZUF"
      },
      "source": [
        "\n",
        "\n",
        "---\n",
        "\n",
        "* How well do you think our observed mean agrees with our hypothesis in each case?\n",
        "* Can we try to quantify the level of agreement? And is there a best way to do so?\n",
        "* When can we say we have proved or excluded a hypothesis?\n",
        "\n",
        "---\n",
        "\n"
      ]
    },
    {
      "cell_type": "markdown",
      "metadata": {
        "id": "8B0DUefD1f6V"
      },
      "source": [
        "\n",
        "\n",
        "---\n",
        "\n",
        "\n",
        "So we've learned how to look at data, try to find their underlying PDF and estimate parameters that we're interested in ? But how can we tell, if the estimates are in line with what we were expecting?\n",
        "\n",
        "A statistical test has as goal to make a *statement* about how well the observed data are in agreement with a **hypothesis**.  \n",
        "\n",
        "Usually we refer to the hypothesis we want to test as the **null** hypothesis, while we may also a second hypothesis, called **alternative** hypothesis.\n",
        "\n",
        "Let's visualize the purpose a statistical test.\n",
        "\n",
        "\n",
        "---\n",
        "\n"
      ]
    },
    {
      "cell_type": "markdown",
      "metadata": {
        "id": "CgN3lxeDdY6U"
      },
      "source": [
        "# Third lecture: Fitting and parameter estimation"
      ]
    },
    {
      "cell_type": "markdown",
      "metadata": {
        "id": "8jxqhl50nVfU"
      },
      "source": []
    },
    {
      "cell_type": "markdown",
      "metadata": {
        "id": "vGb580c2dl4N"
      },
      "source": [
        "### Fitting\n",
        "\n",
        "So far in this lesson, we've been generating pseudo-datasets with known PDFs... But in real life we usually get data without knowing their PDF a-priori. Understanding how are data is distributed will help us make conclusions about them.\n",
        "\n",
        "We do this with a process that we call *fit* . Data fitting is basically us guessing a PDF for our data, and trying to determine the level of agreement between our guess and reality. Let's see a few examples:\n",
        "\n",
        "---\n",
        "\n",
        "\n",
        "\n"
      ]
    },
    {
      "cell_type": "code",
      "execution_count": null,
      "metadata": {
        "id": "PTuAWUJ3kFwn"
      },
      "outputs": [],
      "source": [
        "import matplotlib.pyplot as plt\n",
        "import numpy as np\n",
        "\n",
        "# Generate the data\n",
        "x = np.array([1, 2, 3, 4])\n",
        "y = 2 * x + 1 #+ np.random.randn(4)\n",
        "\n",
        "# Plot the data\n",
        "plt.scatter(x, y)\n",
        "\n",
        "# Show the plot\n",
        "plt.show()"
      ]
    },
    {
      "cell_type": "markdown",
      "metadata": {
        "id": "oORfZjFekMX5"
      },
      "source": [
        "\n",
        "\n",
        "---\n",
        "\n",
        "How do you believe the data is distributed?\n",
        "\n",
        "---\n",
        "\n"
      ]
    },
    {
      "cell_type": "code",
      "execution_count": null,
      "metadata": {
        "id": "scaRPAOJi8TO"
      },
      "outputs": [],
      "source": [
        "# Define the fitting function\n",
        "def linear_function(x, m, b):\n",
        "    return m * x + b\n",
        "\n",
        "# Generate the data\n",
        "x = np.array([1, 2, 3, 4])\n",
        "y = 2 * x + 1\n",
        "\n",
        "#Try and uncomment this next part, and see what happens when you change f\n",
        "# Inject some randomness in our data\n",
        "#f = 5\n",
        "#y = y + 5* np.random.randn(4)\n",
        "\n",
        "# Plot the data\n",
        "plt.scatter(x, y)\n",
        "\n",
        "\n",
        "# Fit the data\n",
        "from scipy.optimize import curve_fit\n",
        "\n",
        "params, _ = curve_fit(linear_function, x, y)\n",
        "\n",
        "# Plot the fitted line\n",
        "x_fit = np.linspace(0, 5, 100)\n",
        "y_fit = linear_function(x_fit, *params)\n",
        "\n",
        "plt.plot(x_fit, y_fit, color='red')\n",
        "\n",
        "# Show the plot\n",
        "plt.show()"
      ]
    },
    {
      "cell_type": "markdown",
      "metadata": {
        "id": "uAQ_yJXUkwVI"
      },
      "source": [
        "\n",
        "\n",
        "---\n",
        "\n",
        "Looks like our guess was not too bad! But how can we know *quantitatively* how good or bad our fit is? We will use something a *goodness-of-fit* test called *chi2*. The chi2 is a test-statistic. We will learn more about them in lesson 3!\n",
        "\n",
        "The chi2 test-statistic is defined like so:\n",
        "\n",
        "$\\chi^2 = \\sum_{i=1}^{n}\\frac{(y_i - f(x_i))^2}{\\sigma_i^2}$\n",
        "\n",
        "and the smaller it is, the better our fit is.\n",
        "\n",
        "---\n",
        "\n"
      ]
    },
    {
      "cell_type": "code",
      "execution_count": null,
      "metadata": {
        "id": "ovZmjDH6kt3J"
      },
      "outputs": [],
      "source": [
        "# Calculate the chi2\n",
        "chi2 = np.sum(((y - linear_function(x, *params)) / np.std(y))**2)\n",
        "print(\"Chi2: %.3f\"% chi2)"
      ]
    },
    {
      "cell_type": "markdown",
      "metadata": {
        "id": "aFfTsGGdlplS"
      },
      "source": [
        "\n",
        "\n",
        "---\n",
        "\n",
        "\n",
        "Do you think this is a good or a bad fit? And what happens if you try to inject some randomness in the data?\n",
        "\n",
        "\n",
        "---\n",
        "\n"
      ]
    },
    {
      "cell_type": "markdown",
      "metadata": {
        "id": "t7_Ih9-AmpcR"
      },
      "source": [
        "\n",
        "\n",
        "---\n",
        "\n",
        "We see that our fit chi2 is defined from a sum of all our measurements So the more measurements we have, the more accurate we can be in our goodness-of-fit test. Also, the more parameters our fit has, the more measurements we need to make an accurate prediction. Let's see this with an example, now looking in the gaussian distribution.\n",
        "\n",
        "---\n",
        "\n"
      ]
    },
    {
      "cell_type": "code",
      "execution_count": null,
      "metadata": {
        "id": "t5ESjyFGVzFk"
      },
      "outputs": [],
      "source": [
        "import numpy as np\n",
        "from scipy.stats import norm\n",
        "import matplotlib.pyplot as plt\n",
        "\n",
        "\n",
        "# Plotting script\n",
        "def plot_gaussian(axis, mu, std, nentries):\n",
        "    # Generate some data for this demonstration.\n",
        "    data = norm.rvs(mu, std, size=nentries)\n",
        "    axis.hist(data, bins=25, density=True, alpha=0.6, color='g')\n",
        "\n",
        "    # Fit a normal distribution to the data:\n",
        "    mu_fit, std_fit = norm.fit(data)\n",
        "\n",
        "    # Plot the histogram.\n",
        "    xmin, xmax = ax1.get_xlim()\n",
        "    x = np.linspace(xmin, xmax, 100)\n",
        "    p = norm.pdf(x, mu_fit, std_fit)\n",
        "    axis.plot(x, p, 'k', linewidth=2)\n",
        "    title = \"Fit results: mu = %.2f,  std = %.2f\" % (mu_fit, std_fit)\n",
        "    axis.set_title(title)\n",
        "    return\n",
        "\n",
        "\n",
        "\n",
        "# Plot the histogram.\n",
        "\n",
        "fig, (ax1, ax2, ax3) = plt.subplots(1, 3, figsize=(15, 5), constrained_layout=True)\n",
        "\n",
        "# Plot the PDF.\n",
        "\n",
        "plot_gaussian(ax1, 10.0, 2.5, 10)\n",
        "\n",
        "\n",
        "## Uncomment the following 2 lines, see what happens!\n",
        "#plot_gaussian(ax2, 10.0, 2.5, 100)\n",
        "#plot_gaussian(ax3, 10.0, 2.5, 1000)\n",
        "\n",
        "fig.show()"
      ]
    },
    {
      "cell_type": "markdown",
      "metadata": {
        "id": "WFgHj_0DneUI"
      },
      "source": [
        "\n",
        "\n",
        "---\n",
        "\n",
        "\n",
        "What do you observe? Is the fit compatible with the model we used to generate the dataset? What can we do to improve it?\n",
        "\n",
        "---\n",
        "\n"
      ]
    },
    {
      "cell_type": "markdown",
      "metadata": {
        "id": "gUrPLtwbhSPM"
      },
      "source": [
        "### Parameter estimation using the Maximum Likelihood method\n",
        "\n",
        "**Likelihood Function:**\n",
        "\n",
        "The likelihood function, $L(\\theta)$, measures the probability of observing the sample data given the parameter $\\theta$. For a set of independent observations, $x_1, x_2,...,x_n$, the likelihood function is defined as:\n",
        "\n",
        "$$L(\\theta) = P(x_1, x_2,...,x_n | \\theta)$$\n",
        "\n",
        "For computational reasons, it is easier to work with the logarithm of the likelihood (because it's easier to make sums than products!)\n",
        "\n",
        "$$logL(\\theta) = \\Sigma_{i=0}^{n} logP(x_i | \\theta)$$\n",
        "\n",
        "\n",
        "**Maximum Likelihood Estimation (MLE):**\n",
        "\n",
        "The goal of the Maximum Likelihood Estimation is to find the parameter value that is more likely to\n",
        "The goal of MLE is to find the parameter value $\\hat{\\theta}$ that maximizes the likelihood function. Mathematically, this is:\n",
        "\n",
        "$$  \\hat{\\theta} = argmax L(\\theta) $$\n",
        "\n",
        "For computational reasons, it is often preferrable to actually minimize the log-likelihood function.\n",
        "\n",
        "Let's see an example:\n",
        "\n",
        "---\n",
        "\n"
      ]
    },
    {
      "cell_type": "code",
      "execution_count": null,
      "metadata": {
        "id": "yYw0IYeehDua"
      },
      "outputs": [],
      "source": [
        "import numpy as np\n",
        "from scipy.optimize import minimize\n",
        "\n",
        "# Step 1: Generate Sample Data\n",
        "true_mu = 5\n",
        "true_sigma = 2\n",
        "np.random.seed(0)\n",
        "data = np.random.normal(true_mu, true_sigma, 1000)\n",
        "\n",
        "# Step 2: Define the Negative Log-Likelihood Function\n",
        "def neg_log_likelihood(params, data):\n",
        "    mu, sigma = params[0], params[1]\n",
        "    N = len(data)\n",
        "    log_likelihood = -N/2 * np.log(2 * np.pi) - N/2 * np.log(sigma**2) - 1/(2 * sigma**2) * np.sum((data - mu)**2)\n",
        "    return -log_likelihood  # We negate because we will minimize\n",
        "\n",
        "# Step 3: Use Numerical Optimization to Find Parameters\n",
        "initial_guess = [0, 1]\n",
        "result = minimize(neg_log_likelihood, initial_guess, args=(data,), bounds=[(None, None), (1e-6, None)])\n",
        "estimated_mu, estimated_sigma = result.x\n",
        "\n",
        "print(f\"True mu: {true_mu}\")\n",
        "print(f\"True sigma: {true_sigma}\")\n",
        "print(f\"Estimated mu: {estimated_mu}\")\n",
        "print(f\"Estimated sigma: {estimated_sigma}\")"
      ]
    },
    {
      "cell_type": "markdown",
      "metadata": {
        "id": "Kg5h8Fp2byqf"
      },
      "source": [
        "\n",
        "\n",
        "---\n",
        "\n",
        "The result looks accurate! To be sure there's nothing strange going on, it's always a good idea to plot the likelihood scan.\n",
        "\n",
        "---\n",
        "\n"
      ]
    },
    {
      "cell_type": "code",
      "execution_count": null,
      "metadata": {
        "id": "fNtEeFXwbyIQ"
      },
      "outputs": [],
      "source": [
        "# Step 4: Plot the Likelihood Scan for mu\n",
        "mu_values = np.linspace(estimated_mu - 2, estimated_mu + 2, 100)\n",
        "likelihood_values_mu = [neg_log_likelihood([mu, estimated_sigma], data) for mu in mu_values]\n",
        "\n",
        "plt.figure(figsize=(10, 5))\n",
        "\n",
        "plt.scatter(mu_values, likelihood_values_mu, label='Negative Log-Likelihood (mu)')\n",
        "plt.axvline(x=estimated_mu, color='r', linestyle='--', label='Estimated mu')\n",
        "plt.xlabel('Mu')\n",
        "plt.ylabel('Negative Log-Likelihood')\n",
        "plt.title('Likelihood Scan for Mu')\n",
        "plt.legend()\n",
        "plt.grid(True)\n",
        "plt.show()"
      ]
    },
    {
      "cell_type": "markdown",
      "metadata": {
        "id": "QsWOjktAcGpo"
      },
      "source": [
        "\n",
        "\n",
        "---\n",
        "\n",
        "Try a few different distributions, and see how the likelihood parameter estimation changes when considering more un-Gaussian distributions!\n",
        "\n",
        "---\n",
        "\n"
      ]
    },
    {
      "cell_type": "code",
      "execution_count": null,
      "metadata": {
        "id": "VzBHsx1lcfWt"
      },
      "outputs": [],
      "source": [
        "import numpy as np\n",
        "from scipy.optimize import minimize\n",
        "import matplotlib.pyplot as plt\n",
        "\n",
        "# Step 1: Generate Sample Data\n",
        "true_lambda = 3.5  # True parameter for Poisson distribution\n",
        "np.random.seed(0)\n",
        "data = np.random.poisson(true_lambda, 1000)\n",
        "\n",
        "# Step 2: Define the Negative Log-Likelihood Function for Poisson Distribution\n",
        "def neg_log_likelihood_poisson(lambda_, data):\n",
        "    N = len(data)\n",
        "    log_likelihood = -N * lambda_ + np.sum(data * np.log(lambda_) - np.log(np.arange(1, data.max() + 1)).sum())\n",
        "    return -log_likelihood  # We negate because we will minimize\n",
        "\n",
        "# Step 3: Use Numerical Optimization to Find Parameter (lambda)\n",
        "initial_guess = [1.0]\n",
        "result = minimize(neg_log_likelihood_poisson, initial_guess, args=(data,), bounds=[(1e-6, None)])\n",
        "\n",
        "estimated_lambda = result.x[0]\n",
        "\n",
        "print(f\"True lambda: {true_lambda}\")\n",
        "print(f\"Estimated lambda: {estimated_lambda}\")\n",
        "\n",
        "# Step 4: Plot the Likelihood Scan for lambda\n",
        "lambda_values = np.linspace(estimated_lambda - 10, estimated_lambda + 10, 100)\n",
        "likelihood_values_lambda = [neg_log_likelihood_poisson(lambda_, data) for lambda_ in lambda_values]\n",
        "\n",
        "plt.figure(figsize=(10, 5))\n",
        "plt.scatter(lambda_values, likelihood_values_lambda, label='Negative Log-Likelihood (lambda)')\n",
        "plt.axvline(x=estimated_lambda, color='r', linestyle='--', label='Estimated lambda')\n",
        "plt.axvline(x=true_lambda, color='b', linestyle='--', label='True lambda')\n",
        "plt.xlabel('Lambda')\n",
        "plt.ylabel('Negative Log-Likelihood')\n",
        "plt.title('Likelihood Scan for Lambda (Poisson Distribution)')\n",
        "plt.legend()\n",
        "plt.grid(True)\n",
        "plt.show()\n"
      ]
    },
    {
      "cell_type": "markdown",
      "metadata": {
        "id": "iTUbsa0Fc2oC"
      },
      "source": [
        "\n",
        "\n",
        "---\n",
        "\n",
        "You can see that for Poissonial distributions, the ML scan looks a bit asymmetric.\n",
        "* What happens when you increase or decrease the number of scan points?\n",
        "* What if you put an initial value that is very far from the true value?\n",
        "\n",
        "---\n",
        "\n"
      ]
    },
    {
      "cell_type": "markdown",
      "metadata": {
        "id": "FTuLy-MN5DpF"
      },
      "source": [
        "### Constructing a test statistic\n",
        "\n",
        "A test-statistic is a variable that we use to help us decide if a hypothesis is valid or not. For the previous example, we were looking at the mean of our data distribution - that could be a *test statistic*.\n",
        "\n",
        "In order to make a conclusion about our hypothesis, we also need to define an acceptance and rejection region, as well as the border, or cut value between the two.\n",
        "\n",
        "\n",
        "---\n",
        "\n"
      ]
    },
    {
      "cell_type": "code",
      "execution_count": null,
      "metadata": {
        "id": "8IAMuZ7jemN4"
      },
      "outputs": [],
      "source": [
        "import numpy as np\n",
        "import matplotlib.pyplot as plt\n",
        "from scipy.stats import norm\n",
        "\n",
        "# Parameters for the distributions\n",
        "mu0 = 0     # Mean under null hypothesis H0\n",
        "mu1 = 1     # Mean under alternative hypothesis H1\n",
        "sigma = 1   # Standard deviation (assumed to be known and the same under both hypotheses)\n",
        "alpha = 0.05  # Significance level\n",
        "\n",
        "# Generate x values\n",
        "x = np.linspace(-3, 5, 1000)\n",
        "\n",
        "# PDF under null hypothesis H0\n",
        "y0 = norm.pdf(x, mu0, sigma)\n",
        "\n",
        "# PDF under alternative hypothesis H1\n",
        "y1 = norm.pdf(x, mu1, sigma)\n",
        "\n",
        "# Critical value for the given significance level\n",
        "# What value should we choose here? Try different values and see what happens.\n",
        "\n",
        "critical_value = 2\n",
        "# Uncomment this\n",
        "#critical_value = norm.ppf(1 - alpha, mu0, sigma)\n",
        "\n",
        "# Plot the distributions\n",
        "plt.figure(figsize=(10, 6))\n",
        "plt.plot(x, y0, label='$H_0: \\mu = 0$', color='blue')\n",
        "plt.plot(x, y1, label='$H_1: \\mu = 1$', color='green')\n",
        "\n",
        "# Fill the rejection region\n",
        "plt.fill_between(x, 0, y0, where=(x > critical_value), color='blue', alpha=0.3)\n",
        "plt.fill_between(x, 0, y1, where=(x > critical_value), color='green', alpha=0.1)\n",
        "\n",
        "# Plot the critical value line\n",
        "plt.axvline(x=critical_value, color='red', linestyle='--', label='Critical Value (Cut Value)')\n",
        "\n",
        "# Labels and legend\n",
        "plt.xlabel('x')\n",
        "plt.ylabel('Probability Density')\n",
        "plt.title('Hypothesis Testing: $H_0$ vs $H_1$')\n",
        "plt.legend()\n",
        "\n",
        "# Show the plot\n",
        "plt.show()\n"
      ]
    },
    {
      "cell_type": "markdown",
      "metadata": {
        "id": "F5iRPTMJUx0r"
      },
      "source": [
        "### Significance and p-value\n",
        "\n",
        "**Definition of significance:**\n",
        "The significance level, denoted by $\\alpha$, is the probability of rejecting the null hypothesis $H_0$ when it is actually true. It is a threshold set by us before conducting the test to determine how extreme the test statistic must be to reject our null hypothesis.\n",
        "\n",
        "**Definition of p-value:**\n",
        "he p-value is the probability of obtaining test results at least as extreme as the observed results, under the assumption that the null hypothesis is true. It quantifies with which confidence we can reject the null hypothesis.\n",
        "\n",
        "The significance level is a fixed value that we decide a priori - while the p-value is obtained from our measurement.\n",
        "\n",
        "---\n",
        "\n"
      ]
    },
    {
      "cell_type": "code",
      "execution_count": null,
      "metadata": {
        "id": "-nhKRA8WhHwP"
      },
      "outputs": [],
      "source": [
        "import numpy as np\n",
        "import matplotlib.pyplot as plt\n",
        "from scipy.stats import norm\n",
        "\n",
        "# Parameters\n",
        "mu = 0      # Mean of the distribution\n",
        "sigma = 1   # Standard deviation of the distribution\n",
        "alpha = 0.05  # Significance level\n",
        "\n",
        "# Generate x values\n",
        "x = np.linspace(-3, 3, 1000)\n",
        "\n",
        "# Standard normal distribution\n",
        "y = norm.pdf(x, mu, sigma)\n",
        "\n",
        "# Critical value for the given significance level (one-tailed)\n",
        "critical_value = norm.ppf(1 - alpha, mu, sigma)\n",
        "print(\"Critical value (also called significance-level) is %.3f\" %critical_value)\n",
        "\n",
        "\n",
        "# Observed test statistic\n",
        "observed_stat = 2.  # Example value in the critical region\n",
        "\n",
        "# Compute p-value using cumulative distribution function (CDF)\n",
        "p_value = 1 - norm.cdf(observed_stat, loc=mu, scale=sigma)\n",
        "print(\"p-value: %.3f \"% p_value)\n",
        "\n",
        "# Compute quantile (inverse CDF)\n",
        "z_value = norm.ppf(1 - p_value, loc=0, scale=sigma)\n",
        "print(\"significance value: %.3f \"% z_value)\n",
        "\n",
        "# Plot the normal distribution\n",
        "plt.figure(figsize=(12, 6))\n",
        "plt.plot(x, y, label='Standard Normal Distribution', color='blue')\n",
        "\n",
        "# Fill the significance level region (alpha)\n",
        "plt.fill_between(x, 0, y, where=(x > critical_value), color='blue', alpha=0.3, label=f'Significance Level (α = {alpha})')\n",
        "\n",
        "# Fill the p-value region\n",
        "plt.fill_between(x, 0, y, where=(x > observed_stat), color='red', alpha=0.3, label='p-value')\n",
        "\n",
        "# Plot the critical value line\n",
        "plt.axvline(x=critical_value, color='blue', linestyle='--', label=f'Critical Value (z = {critical_value:.2f})')\n",
        "\n",
        "# Plot the observed test statistic line\n",
        "plt.axvline(x=observed_stat, color='red', linestyle='--', label=f'Observed Test Statistic (z = {observed_stat})')\n",
        "\n",
        "# Labels and legend\n",
        "plt.xlabel('z')\n",
        "plt.ylabel('Probability Density')\n",
        "plt.title('Significance Level (α) and p-value')\n",
        "plt.legend()\n",
        "\n",
        "# Show the plot\n",
        "plt.show()\n"
      ]
    },
    {
      "cell_type": "markdown",
      "metadata": {
        "id": "Rq7TsFvyh0io"
      },
      "source": [
        "\n",
        "\n",
        "---\n",
        "\n",
        "* Looking at this plot, do you think the hypothesis is accepted ? Or rejected?\n",
        "* What happens if you change the value of `observed_stat`?\n",
        "* What happens if you change the value of `alpha`?\n",
        "\n",
        "---\n",
        "\n"
      ]
    },
    {
      "cell_type": "markdown",
      "metadata": {
        "id": "YdJ5u1qo5avW"
      },
      "source": [
        "### The chi2 method\n",
        "\n",
        "\n",
        "---\n",
        "\n",
        "We've already seen the chi2 variable in lesson 2, where we used it to test goodness of fit. But it can also be used for hypothesis testing!\n",
        "\n",
        "Let's consider a scenario where we have surveyed a group of people to understand their preference for two brands of products (Brand A and Brand B) across two different age groups (Under 30 and 30 and Above). We want to test if there is a significant association between age group and brand preference."
      ]
    },
    {
      "cell_type": "code",
      "execution_count": null,
      "metadata": {
        "id": "83U7aFVo6gyG"
      },
      "outputs": [],
      "source": [
        "import numpy as np\n",
        "import scipy.stats as stats\n",
        "\n",
        "# Contingency table\n",
        "#                Brand A  Brand B\n",
        "# Under 30         30       10\n",
        "# 30 and Above     20       40\n",
        "\n",
        "observed = np.array([[30, 10], [20, 40]])\n",
        "\n",
        "# Perform the Chi-Squared test for independence\n",
        "chi2, p, dof, expected = stats.chi2_contingency(observed)\n",
        "\n",
        "# Output the results\n",
        "print(\"Chi-Squared Test Statistic:\", chi2)\n",
        "print(\"p-value:\", p)\n",
        "print(\"Degrees of Freedom:\", dof)\n",
        "print(\"Expected Frequencies:\")\n",
        "print(expected)\n",
        "\n",
        "# Interpretation\n",
        "alpha = 0.05\n",
        "if p < alpha:\n",
        "    print(\"I reject the null hypothesis: There is a significant association between age group and brand preference.\")\n",
        "else:\n",
        "    print(\"I fail to reject the null hypothesis: There is no significant association between age group and brand preference.\")\n"
      ]
    },
    {
      "cell_type": "markdown",
      "metadata": {
        "id": "QRjFZlSK6wql"
      },
      "source": [
        "\n",
        "\n",
        "---\n",
        "\n",
        "What happens if:\n",
        "* We try modifying the initial values?\n",
        "* Change the cut value of our interpretation?\n",
        "\n",
        "---\n",
        "\n"
      ]
    },
    {
      "cell_type": "markdown",
      "metadata": {
        "id": "KFerDbCpAomq"
      },
      "source": [
        "### The likelihood ratio method"
      ]
    },
    {
      "cell_type": "code",
      "execution_count": null,
      "metadata": {
        "id": "s3Kzy-0CjbiO"
      },
      "outputs": [],
      "source": [
        "import numpy as np\n",
        "from scipy.stats import norm, chi2\n",
        "import matplotlib.pyplot as plt\n",
        "\n",
        "# Generate sample data\n",
        "np.random.seed(0)\n",
        "n = 100\n",
        "true_mu = 1.0\n",
        "sigma = 1.0\n",
        "data = np.random.normal(true_mu, sigma, n)\n",
        "\n",
        "# Null hypothesis mean\n",
        "mu_0 = 0.2\n",
        "\n",
        "# Alternative hypothesis mean - in this case the mean value of our data-set\n",
        "mu_hat = np.mean(data)\n",
        "\n",
        "# Calculate the log-likelihoods\n",
        "log_likelihood_mu_0 = -n/2 * np.log(2 * np.pi * sigma**2) - 1/(2 * sigma**2) * np.sum((data - mu_0)**2)\n",
        "log_likelihood_mu_hat = -n/2 * np.log(2 * np.pi * sigma**2) - 1/(2 * sigma**2) * np.sum((data - mu_hat)**2)\n",
        "\n",
        "# Likelihood ratio test statistic\n",
        "lambda_stat = -2 * (log_likelihood_mu_0 )#- log_likelihood_mu_hat)\n",
        "\n",
        "# Print results\n",
        "print(f\"True mean: {true_mu}\")\n",
        "print(f\"Null hypothesis mean: {mu_0}\")\n",
        "print(f\"Estimated mean: {mu_hat}\")\n",
        "print(f\"Log-likelihood under H0: {log_likelihood_mu_0}\")\n",
        "print(f\"Log-likelihood under H1: {log_likelihood_mu_hat}\")\n",
        "print(f\"Likelihood ratio test statistic: {lambda_stat}\")\n",
        "\n",
        "# Calculate the p-value\n",
        "p_value = chi2.sf(lambda_stat, df=1)\n",
        "print(f\"P-value: {p_value}\")\n",
        "\n",
        "\n",
        "# Visualize the likelihood functions\n",
        "mu_values = np.linspace(mu_0 - 2, mu_hat + 2, 100)\n",
        "log_likelihoods = [-1*(-n/2 * np.log(2 * np.pi * sigma**2) - 1/(2 * sigma**2) * np.sum((data - mu)**2)) for mu in mu_values]\n",
        "\n",
        "plt.figure(figsize=(10, 5))\n",
        "plt.plot(mu_values, log_likelihoods, label='Log-Likelihood')\n",
        "plt.axvline(mu_0, color='r', linestyle='--', label='Null hypothesis mean')\n",
        "plt.axvline(mu_hat, color='g', linestyle='--', label='Estimated mean')\n",
        "plt.xlabel('Mean')\n",
        "plt.ylabel('Log-Likelihood')\n",
        "plt.title('Log-Likelihood for Different Means')\n",
        "plt.legend()\n",
        "plt.grid(True)\n",
        "plt.show()\n"
      ]
    },
    {
      "cell_type": "markdown",
      "metadata": {
        "id": "eyvnQl5Eoeqk"
      },
      "source": [
        "\n",
        "\n",
        "---\n",
        "\n",
        "It is often useful to place the minimum of the likelihood at zero. In this way, we can easily check the 1 and 2 sigma variations.\n",
        "\n",
        "---\n",
        "\n"
      ]
    },
    {
      "cell_type": "code",
      "execution_count": null,
      "metadata": {
        "id": "HoFoGeGPoKir"
      },
      "outputs": [],
      "source": [
        "# Normalize the log-likelihoods\n",
        "min_log_likelihood = np.min(log_likelihoods)\n",
        "normalized_log_likelihoods = log_likelihoods - min_log_likelihood\n",
        "\n",
        "# Calculate confidence intervals\n",
        "confidence_intervals = [1.0*sigma, 2.0*sigma]  # 1-sigma and 2-sigma confidence intervals\n",
        "\n",
        "# Plotting\n",
        "plt.figure(figsize=(10, 6))\n",
        "plt.plot(mu_values, normalized_log_likelihoods, label='Normalized Log-Likelihood')\n",
        "plt.axhline(confidence_intervals[0], color='r', linestyle='--', label='1-sigma')\n",
        "plt.axhline(confidence_intervals[1], color='g', linestyle='--', label='2-sigma')\n",
        "plt.axvline(true_mu, color='k', linestyle='-', label='True Mean')\n",
        "plt.axvline(mu_hat, color='b', linestyle='--', label='Estimated Mean')\n",
        "plt.axvline(mu_0, color='orange', linestyle='--', label='Null hypothesis Mean')\n",
        "# Zoom in on the y-axis\n",
        "plt.ylim(-1, 5)\n",
        "plt.xlim(true_mu - 1, true_mu + 1)\n",
        "plt.xlabel('Mean')\n",
        "plt.ylabel('Normalized Log-Likelihood')\n",
        "plt.legend()\n",
        "plt.grid(True)\n",
        "plt.show()\n"
      ]
    },
    {
      "cell_type": "markdown",
      "metadata": {
        "id": "Nv_JBVO-o0vC"
      },
      "source": [
        "# Fourth lecture: Some real data examples"
      ]
    },
    {
      "cell_type": "markdown",
      "metadata": {
        "id": "eEGm0qwAWMC2"
      },
      "source": [
        "## Fitting the LHCb dataset\n",
        "\n",
        "\n",
        "\n",
        "\n",
        "\n",
        "---\n",
        "\n"
      ]
    },
    {
      "cell_type": "markdown",
      "metadata": {
        "id": "FRR5no3ZgwU_"
      },
      "source": [
        "### Signal simulation\n",
        "\n",
        "Let's take our LHCb MC simulation sample. We can try to fit it, to extract the signal shape.\n",
        "\n",
        "\n",
        "---\n",
        "\n"
      ]
    },
    {
      "cell_type": "code",
      "execution_count": null,
      "metadata": {
        "collapsed": true,
        "id": "s59DEDqi549G"
      },
      "outputs": [],
      "source": [
        "import os\n",
        "\n",
        "# Check if the current environment is Google Colab\n",
        "if RunningInCOLAB:\n",
        "  # Check if the directory 'root_build' exists\n",
        "  if not os.path.isdir('./root_build'):\n",
        "    # Download the ROOT zip file\n",
        "    !wget https://github.com/MohamedElashri/ROOT/releases/download/ubuntu/root_v6.28.04_Ubuntu_20.04.zip\n",
        "    # Unzip the downloaded file\n",
        "    !unzip /content/root_v6.28.04_Ubuntu_20.04.zip\n",
        "\n",
        "  # Install required system packages\n",
        "  !apt-get install git dpkg-dev cmake g++ gcc binutils libx11-dev libxpm-dev libxft-dev libxext-dev tar gfortran subversion\n",
        "  # Install libpython\n",
        "  !apt-get install libpython3.6\n",
        "\n",
        "  # Download and install the OpenSSL library\n",
        "  !wget http://archive.ubuntu.com/ubuntu/pool/main/o/openssl/libssl1.1_1.1.1f-1ubuntu2_amd64.deb\n",
        "  !sudo dpkg -i libssl1.1_1.1.1f-1ubuntu2_amd64.deb\n",
        "\n",
        "  # Add the necessary directories to the system path\n",
        "  import sys\n",
        "  sys.path.append(\"/content/root_build/\")\n",
        "  sys.path.append(\"/content/root_build/bin/\")\n",
        "  sys.path.append(\"/content/root_build/include/\")\n",
        "  sys.path.append(\"/content/root_build/lib/\")\n",
        "  # Load the ROOT shared library\n",
        "  import ctypes\n",
        "  ctypes.cdll.LoadLibrary('/content/root_build/lib//libCore.so')\n",
        "  ctypes.cdll.LoadLibrary('/content/root_build/lib//libThread.so')\n",
        "  ctypes.cdll.LoadLibrary('/content/root_build/lib//libTreePlayer.so')\n",
        "\n",
        "import ROOT"
      ]
    },
    {
      "cell_type": "code",
      "execution_count": null,
      "metadata": {
        "id": "gfd6ZkGglsuJ"
      },
      "outputs": [],
      "source": [
        "import numpy as np\n",
        "from scipy.optimize import curve_fit\n",
        "import matplotlib.pyplot as plt\n",
        "from scipy.stats import norm\n",
        "\n",
        "df_lhcb_mc_filtered = df_lhcb_mc.loc[(df_lhcb_mc['mass'] >= 5.1) & (df_lhcb_mc['mass'] <= 5.5)]\n",
        "\n",
        "mass = df_lhcb_mc['mass'].to_numpy()\n",
        "\n",
        "# Fit a normal distribution to the data:\n",
        "mu_fit, std_fit = norm.fit(mass)\n",
        "\n",
        "# Plot the data and the fit\n",
        "plt.hist(mass, bins=50)\n",
        "\n",
        "hist, bin_edges = np.histogram(mass, bins=50)\n",
        "\n",
        "x = np.linspace(mass.min(), mass.max(), 50)\n",
        "p = norm.pdf(x, mu_fit, std_fit)\n",
        "plt.plot(x, p*len(mass)*np.diff(bin_edges)[0], 'red', linewidth=2)\n",
        "\n",
        "# Show the plot\n",
        "plt.show()\n",
        "\n",
        "print(mu_fit, std_fit)\n"
      ]
    },
    {
      "cell_type": "markdown",
      "metadata": {
        "id": "ni_TjEiHw_h5"
      },
      "source": [
        "\n",
        "\n",
        "---\n",
        "\n",
        "A gaussian fit is not very far, but it's not perfect... clearly we can do better.\n",
        "\n",
        "---\n",
        "\n"
      ]
    },
    {
      "cell_type": "code",
      "execution_count": null,
      "metadata": {
        "id": "lmB51mt65K88"
      },
      "outputs": [],
      "source": [
        "import pandas as pd\n",
        "import numpy as np\n",
        "import matplotlib.pyplot as plt\n",
        "from scipy.optimize import curve_fit\n",
        "from scipy.integrate import simps\n",
        "\n",
        "\n",
        "# Define the Crystal Ball function\n",
        "def crystal_ball(x, alpha, n, mu, sigma):\n",
        "    A = (n / abs(alpha))**n * np.exp(-alpha**2 / 2)\n",
        "    B = n / abs(alpha) - abs(alpha)\n",
        "\n",
        "    mask = (x - mu) / sigma > -alpha\n",
        "    CB = np.zeros_like(x)\n",
        "\n",
        "    CB[mask] = np.exp(-(x[mask] - mu)**2 / (2 * sigma**2))\n",
        "    CB[~mask] = A / (B - (x[~mask] - mu) / sigma)**n\n",
        "\n",
        "    # Normalize the function\n",
        "    normalization_factor = simps(CB, x)\n",
        "    CB /= normalization_factor\n",
        "\n",
        "    return CB\n",
        "\n",
        "# Define initial guess for parameters\n",
        "initial_guess = [2.0, 1.2, 5.2, 7]  # [alpha, n, mu, sigma]\n",
        "\n",
        "# Create histogram data from the mass data\n",
        "hist, bin_edges = np.histogram(mass, bins=100, density=True)\n",
        "\n",
        "# Calculate bin centers (x values) and extract bin heights (y values)\n",
        "x_data = (bin_edges[:-1] + bin_edges[1:]) / 2\n",
        "y_data = hist\n",
        "\n",
        "# Perform curve fitting using scipy.optimize.curve_fit\n",
        "popt, pcov = curve_fit(crystal_ball, x_data, y_data, p0=initial_guess, maxfev=10000)\n",
        "\n",
        "# Extract fitted parameters and their uncertainties\n",
        "fit_alpha, fit_n, fit_mu, fit_sigma = popt\n",
        "fit_alpha_err, fit_n_err, fit_mu_err, fit_sigma_err = np.sqrt(np.diag(pcov))\n",
        "\n",
        "print(\"Fitted parameters:\")\n",
        "print(f\"alpha = {fit_alpha:.3f} ± {fit_alpha_err:.3f}\")\n",
        "print(f\"n = {fit_n:.3f} ± {fit_n_err:.3f}\")\n",
        "print(f\"mu = {fit_mu:.3f} ± {fit_mu_err:.3f}\")\n",
        "print(f\"sigma = {fit_sigma:.3f} ± {fit_sigma_err:.3f}\")\n",
        "\n",
        "# Define the range for the smooth curve\n",
        "x_range = np.linspace(min(x_data), max(x_data), 1000)\n",
        "\n",
        "# Generate fitted curve with the optimal parameters over the defined range\n",
        "y_fit = crystal_ball(x_range, fit_alpha, fit_n, fit_mu, fit_sigma)\n",
        "\n",
        "# Normalize the fitted curve to match the histogram\n",
        "# Integrate the histogram and the fitted function\n",
        "hist_integral = simps(y_data, x_data)\n",
        "fit_integral = simps(y_fit, x_range)\n",
        "\n",
        "# Scale the fitted function to match the integral of the histogram\n",
        "y_fit_normalized = y_fit * (hist_integral / fit_integral)\n",
        "\n",
        "# Plot the original data and the fitted curve\n",
        "plt.figure(figsize=(8, 5))\n",
        "plt.scatter(x_data, y_data, label='Data', color='b', alpha=0.5, s=10)\n",
        "plt.plot(x_range, y_fit_normalized, label='Fitted Crystal Ball function', color='r')\n",
        "plt.xlabel('Mass (GeV/c^2)')\n",
        "plt.ylabel('Density')\n",
        "plt.title('Fit of Crystal Ball function to Data')\n",
        "plt.legend()\n",
        "plt.grid(True)\n",
        "plt.show()"
      ]
    },
    {
      "cell_type": "markdown",
      "metadata": {
        "id": "BhxbVO7X3q_Z"
      },
      "source": [
        "### Fitting real data"
      ]
    },
    {
      "cell_type": "code",
      "execution_count": null,
      "metadata": {
        "id": "5TDS6NDO3xEo"
      },
      "outputs": [],
      "source": [
        "import numpy as np\n",
        "from scipy.optimize import curve_fit\n",
        "import matplotlib.pyplot as plt\n",
        "from scipy.stats import norm\n",
        "\n",
        "df_lhcb_data_filtered = df_lhcb_data.loc[(df_lhcb_data['mass'] >= 5.1) & (df_lhcb_data['mass'] <= 5.5)]\n",
        "\n",
        "mass = df_lhcb_data['mass'].to_numpy()\n",
        "\n",
        "# Plot the data and the fit\n",
        "plt.hist(mass, bins=50)"
      ]
    },
    {
      "cell_type": "code",
      "execution_count": null,
      "metadata": {
        "id": "86mHV8ya7qqh"
      },
      "outputs": [],
      "source": [
        "import pandas as pd\n",
        "import numpy as np\n",
        "import matplotlib.pyplot as plt\n",
        "from scipy.optimize import curve_fit\n",
        "from scipy.integrate import simps\n",
        "\n",
        "\n",
        "# Define the Crystal Ball function\n",
        "def crystal_ball(x, alpha, n, mu, sigma):\n",
        "    A = (n / abs(alpha))**n * np.exp(-alpha**2 / 2)\n",
        "    B = n / abs(alpha) - abs(alpha)\n",
        "\n",
        "    mask = (x - mu) / sigma > -alpha\n",
        "    CB = np.zeros_like(x)\n",
        "\n",
        "    CB[mask] = np.exp(-(x[mask] - mu)**2 / (2 * sigma**2))\n",
        "    CB[~mask] = A / (B - (x[~mask] - mu) / sigma)**n\n",
        "\n",
        "    # Normalize the function\n",
        "    normalization_factor = simps(CB, x)\n",
        "    CB /= normalization_factor\n",
        "\n",
        "    return CB\n",
        "\n",
        "# Define initial guess for parameters\n",
        "initial_guess = [2.0, 1.2, 5.2, 7]  # [alpha, n, mu, sigma]\n",
        "\n",
        "# Create histogram data from the mass data\n",
        "hist, bin_edges = np.histogram(mass, bins=100, density=True)\n",
        "\n",
        "# Calculate bin centers (x values) and extract bin heights (y values)\n",
        "x_data = (bin_edges[:-1] + bin_edges[1:]) / 2\n",
        "y_data = hist\n",
        "\n",
        "# Perform curve fitting using scipy.optimize.curve_fit\n",
        "popt, pcov = curve_fit(crystal_ball, x_data, y_data, p0=initial_guess, maxfev=10000)\n",
        "\n",
        "# Extract fitted parameters and their uncertainties\n",
        "fit_alpha, fit_n, fit_mu, fit_sigma = popt\n",
        "fit_alpha_err, fit_n_err, fit_mu_err, fit_sigma_err = np.sqrt(np.diag(pcov))\n",
        "\n",
        "print(\"Fitted parameters:\")\n",
        "print(f\"alpha = {fit_alpha:.3f} ± {fit_alpha_err:.3f}\")\n",
        "print(f\"n = {fit_n:.3f} ± {fit_n_err:.3f}\")\n",
        "print(f\"mu = {fit_mu:.3f} ± {fit_mu_err:.3f}\")\n",
        "print(f\"sigma = {fit_sigma:.3f} ± {fit_sigma_err:.3f}\")\n",
        "\n",
        "# Define the range for the smooth curve\n",
        "x_range = np.linspace(min(x_data), max(x_data), 1000)\n",
        "\n",
        "# Generate fitted curve with the optimal parameters over the defined range\n",
        "y_fit = crystal_ball(x_range, fit_alpha, fit_n, fit_mu, fit_sigma)\n",
        "\n",
        "# Normalize the fitted curve to match the histogram\n",
        "# Integrate the histogram and the fitted function\n",
        "hist_integral = simps(y_data, x_data)\n",
        "fit_integral = simps(y_fit, x_range)\n",
        "\n",
        "# Scale the fitted function to match the integral of the histogram\n",
        "y_fit_normalized = y_fit * (hist_integral / fit_integral)\n",
        "\n",
        "# Plot the original data and the fitted curve\n",
        "plt.figure(figsize=(8, 5))\n",
        "plt.scatter(x_data, y_data, label='Data', color='b', alpha=0.5, s=10)\n",
        "plt.plot(x_range, y_fit_normalized, label='Fitted Crystal Ball function', color='r')\n",
        "plt.xlabel('Mass (GeV/c^2)')\n",
        "plt.ylabel('Density')\n",
        "plt.title('Fit of Crystal Ball function to Data')\n",
        "plt.legend()\n",
        "plt.grid(True)\n",
        "plt.show()"
      ]
    },
    {
      "cell_type": "code",
      "execution_count": null,
      "metadata": {
        "id": "StjdFN1k-qZl"
      },
      "outputs": [],
      "source": [
        "!pip install lmfit"
      ]
    },
    {
      "cell_type": "code",
      "execution_count": null,
      "metadata": {
        "id": "Fll03RUQ73yz"
      },
      "outputs": [],
      "source": [
        "import pandas as pd\n",
        "import numpy as np\n",
        "import matplotlib.pyplot as plt\n",
        "from scipy.stats import expon\n",
        "from scipy.optimize import curve_fit\n",
        "from scipy.integrate import simps\n",
        "import lmfit\n",
        "from lmfit import Model, Parameters\n",
        "\n",
        "\n",
        "\n",
        "# Define the Crystal Ball function\n",
        "def crystal_ball(x, params):\n",
        "    alpha, n, mu, sigma = params\n",
        "    A = (n / abs(alpha))**n * np.exp(-alpha**2 / 2)\n",
        "    B = n / abs(alpha) - abs(alpha)\n",
        "\n",
        "    mask = (x - mu) / sigma > -alpha\n",
        "    CB = np.zeros_like(x)\n",
        "\n",
        "    CB[mask] = np.exp(-(x[mask] - mu)**2 / (2 * sigma**2))\n",
        "    CB[~mask] = A / (B - (x[~mask] - mu) / sigma)**n\n",
        "\n",
        "    # Normalize the function\n",
        "    normalization_factor = simps(CB, x)\n",
        "    CB /= normalization_factor\n",
        "\n",
        "    return CB\n",
        "\n",
        "\n",
        "def combined_model(x, nsig, nbkg, alpha, nu, mu, sigma, tau_bkg):\n",
        "    params = [alpha, nu, mu, sigma]\n",
        "    signal = nsig * crystal_ball(x, params)\n",
        "    background = nbkg * expon.pdf(x, 0, tau_bkg)\n",
        "    return signal + background\n",
        "\n",
        "# Create a model using lmfit\n",
        "model = Model(combined_model)\n",
        "\n",
        "params = Parameters()\n",
        "params.add('nsig', value=2., min=0)\n",
        "params.add('alpha', value=2.0)\n",
        "params.add('nu', value=1.2, min=0)\n",
        "params.add('mu', value=5.2, min=5.0, max=6.0)\n",
        "params.add('sigma', value=7., min=0)\n",
        "params.add('nbkg', value=1., min=0)\n",
        "params.add('tau_bkg', value=0.07, min=0, max=5)\n",
        "\n",
        "## Create a histogram of the data\n",
        "hist, bin_edges = np.histogram(mass, bins=100, density=True)\n",
        "bin_centers = 0.5 * (bin_edges[1:] + bin_edges[:-1])\n",
        "\n",
        "# Fit the model to the histogram data\n",
        "result = model.fit(hist, params, x=bin_centers)\n",
        "\n",
        "# Print fit report\n",
        "print(result.fit_report())\n",
        "\n",
        "# Plot the data and the fit\n",
        "plt.figure(figsize=(10, 6))\n",
        "plt.hist(mass, bins=100, density=True, alpha=0.5, label='Data')\n",
        "\n",
        "# Plot the fit result\n",
        "x_fit = np.linspace(bin_edges[0], bin_edges[-1], 1000)\n",
        "y_fit = result.eval(x=x_fit)\n",
        "plt.plot(x_fit, y_fit, label='Fit', color='red')\n",
        "\n",
        "# Plot the individual components\n",
        "crystall_ball_fitted_params = [result.params['alpha'].value, result.params['nu'].value, result.params['mu'].value, result.params['sigma'].value]\n",
        "signal_fit = result.params['nsig'].value * crystal_ball(x_fit, crystall_ball_fitted_params)\n",
        "background_fit = result.params['nbkg'].value * expon.pdf(x_fit, 0, result.params['tau_bkg'].value)\n",
        "plt.plot(x_fit, signal_fit, '--', label='Signal Component')\n",
        "plt.plot(x_fit, background_fit, '--', label='Background Component')\n",
        "\n",
        "plt.xlabel('x')\n",
        "plt.ylabel('Density')\n",
        "plt.legend()\n",
        "plt.show()\n"
      ]
    },
    {
      "cell_type": "markdown",
      "metadata": {
        "id": "dbuxOKRN3xXx"
      },
      "source": [
        "### Extracting the parameter $A_{CP}$"
      ]
    },
    {
      "cell_type": "code",
      "execution_count": 1,
      "metadata": {
        "id": "Q-Do3ivh34UC",
        "colab": {
          "base_uri": "https://localhost:8080/",
          "height": 106
        },
        "outputId": "c9062d89-1135-4e15-fff9-21f051e7f84e"
      },
      "outputs": [
        {
          "output_type": "error",
          "ename": "SyntaxError",
          "evalue": "invalid syntax (<ipython-input-1-d93c8dd246e3>, line 1)",
          "traceback": [
            "\u001b[0;36m  File \u001b[0;32m\"<ipython-input-1-d93c8dd246e3>\"\u001b[0;36m, line \u001b[0;32m1\u001b[0m\n\u001b[0;31m    git status\u001b[0m\n\u001b[0m        ^\u001b[0m\n\u001b[0;31mSyntaxError\u001b[0m\u001b[0;31m:\u001b[0m invalid syntax\n"
          ]
        }
      ],
      "source": []
    },
    {
      "cell_type": "markdown",
      "metadata": {
        "id": "YnaDGQX9341N"
      },
      "source": [
        "### Testing against hypotheses"
      ]
    }
  ],
  "metadata": {
    "colab": {
      "toc_visible": true,
      "provenance": [],
      "include_colab_link": true
    },
    "kernelspec": {
      "display_name": "Python 3",
      "name": "python3"
    },
    "language_info": {
      "name": "python"
    }
  },
  "nbformat": 4,
  "nbformat_minor": 0
}